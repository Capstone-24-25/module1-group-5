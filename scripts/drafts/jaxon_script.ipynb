{
 "cells": [
  {
   "cell_type": "code",
   "execution_count": 367,
   "metadata": {},
   "outputs": [],
   "source": [
    "import pandas as pd\n",
    "import numpy as np\n",
    "import matplotlib.pyplot as plt\n",
    "from sklearn.metrics import confusion_matrix\n",
    "from sklearn.feature_selection import RFE\n",
    "import pickle"
   ]
  },
  {
   "cell_type": "code",
   "execution_count": 368,
   "metadata": {},
   "outputs": [],
   "source": [
    "# read data\n",
    "biomarker_clean = pd.read_csv('../../data/biomarker_clean.csv')"
   ]
  },
  {
   "cell_type": "code",
   "execution_count": 369,
   "metadata": {},
   "outputs": [
    {
     "data": {
      "text/plain": [
       "Index(['Unnamed: 0', 'group', 'ados', 'CHIP', 'CEBPB', 'NSE', 'PIAS4',\n",
       "       'IL-10 Ra', 'STAT3', 'IRF1',\n",
       "       ...\n",
       "       'UB2G2', 'Transgelin-2', 'ATPO', 'Corticotropin-lipotropin', 'QORL1',\n",
       "       'PEDF', 'CATF', 'FTCD', 'UBP25', 'PLXB2'],\n",
       "      dtype='object', length=1320)"
      ]
     },
     "execution_count": 369,
     "metadata": {},
     "output_type": "execute_result"
    }
   ],
   "source": [
    "# see column names\n",
    "biomarker_clean.columns"
   ]
  },
  {
   "cell_type": "code",
   "execution_count": 370,
   "metadata": {},
   "outputs": [],
   "source": [
    "# drop the unnamed column and ados\n",
    "biomarker_clean = biomarker_clean.drop(['Unnamed: 0'], axis=1)"
   ]
  },
  {
   "cell_type": "markdown",
   "metadata": {},
   "source": [
    "ADOS diagnostic algo- rithms consisting of two behavioral domains: Social Affect (SA) and Restricted and Repetitive Behaviors (RRB) were used to determine an ADOS total score, which provides a continuous measure of overall ASD symptom severity."
   ]
  },
  {
   "cell_type": "code",
   "execution_count": 371,
   "metadata": {},
   "outputs": [
    {
     "data": {
      "text/plain": [
       "group\n",
       "TD    78\n",
       "Name: count, dtype: int64"
      ]
     },
     "execution_count": 371,
     "metadata": {},
     "output_type": "execute_result"
    }
   ],
   "source": [
    "biomarker_clean[biomarker_clean['ados'].isna()]['group'].value_counts()"
   ]
  },
  {
   "cell_type": "code",
   "execution_count": 372,
   "metadata": {},
   "outputs": [
    {
     "data": {
      "text/plain": [
       "group\n",
       "ASD    76\n",
       "Name: count, dtype: int64"
      ]
     },
     "execution_count": 372,
     "metadata": {},
     "output_type": "execute_result"
    }
   ],
   "source": [
    "biomarker_clean[biomarker_clean['ados'].notna()]['group'].value_counts()"
   ]
  },
  {
   "cell_type": "markdown",
   "metadata": {},
   "source": [
    "# Binomial classification"
   ]
  },
  {
   "cell_type": "code",
   "execution_count": 373,
   "metadata": {},
   "outputs": [],
   "source": [
    "biomarker_clean = biomarker_clean.drop(['ados'], axis=1)\n"
   ]
  },
  {
   "cell_type": "code",
   "execution_count": 374,
   "metadata": {},
   "outputs": [],
   "source": [
    "biomarker_clean['group'] = biomarker_clean['group'].apply(lambda x: 1 if x == 'ASD' else 0).astype(int)"
   ]
  },
  {
   "cell_type": "code",
   "execution_count": 375,
   "metadata": {},
   "outputs": [],
   "source": [
    "X = biomarker_clean.loc[:, 'CHIP':]\n",
    "y = biomarker_clean.loc[:, 'group']"
   ]
  },
  {
   "cell_type": "code",
   "execution_count": 376,
   "metadata": {},
   "outputs": [],
   "source": [
    "from sklearn.ensemble import RandomForestClassifier\n",
    "from sklearn.model_selection import train_test_split\n",
    "from sklearn.linear_model import LogisticRegression"
   ]
  },
  {
   "cell_type": "markdown",
   "metadata": {},
   "source": [
    "sklearn.utils.resample(*arrays, replace=True, n_samples=None, random_state=None, stratify=None)[source]\n",
    "Resample arrays or sparse matrices in a consistent way.\n",
    "\n",
    "The default strategy implements one step of the bootstrapping procedure."
   ]
  },
  {
   "cell_type": "markdown",
   "metadata": {},
   "source": [
    "## Random Forest"
   ]
  },
  {
   "cell_type": "code",
   "execution_count": 377,
   "metadata": {},
   "outputs": [],
   "source": [
    "# rf_model = RandomForestClassifier(n_estimators=100,\n",
    "#                                   criterion='gini',\n",
    "#                                   max_depth=15,\n",
    "#                                   min_samples_split=5,\n",
    "#                                   bootstrap=True,\n",
    "#                                   random_state=197)\n",
    "# rf_model.fit(X_train, y_train)\n",
    "# rf_feature_importance = rf_model.feature_importances_"
   ]
  },
  {
   "cell_type": "code",
   "execution_count": 378,
   "metadata": {},
   "outputs": [],
   "source": [
    "# rf_top_feature_importance_idx = np.argsort(rf_feature_importance)[-20:][::-1]\n",
    "# rf_biomarker_clean = biomarker_clean.columns[rf_top_feature_importance_idx]\n",
    "# rf_biomarker_clean"
   ]
  },
  {
   "cell_type": "markdown",
   "metadata": {},
   "source": [
    "## Select top 20 proteins"
   ]
  },
  {
   "cell_type": "code",
   "execution_count": 379,
   "metadata": {},
   "outputs": [],
   "source": [
    "# X_rf_top_20 = X_train.loc[:, rf_biomarker_clean]\n",
    "# y_rf_top_20 = y_train\n",
    "# lg_feature_importance = np.zeros(X_rf_top_20.shape[1]) # size = number of features"
   ]
  },
  {
   "cell_type": "code",
   "execution_count": 380,
   "metadata": {},
   "outputs": [],
   "source": [
    "# for i in range(50):\n",
    "#   X_bootstrap, y_bootstrap = resample(X_rf_top_20, y_rf_top_20, random_state=i)\n",
    "\n",
    "#   lg_model = LogisticRegression(solver='liblinear', C=1, penalty='l1', random_state=i).fit(X_bootstrap, y_bootstrap)\n",
    "\n",
    "#   lg_feature_importance += (lg_model.coef_ != 0).sum(axis=0) # sum over rows\n",
    "\n",
    "# lg_feature_importance /= 50 # calculate the average of non-zero features\n"
   ]
  },
  {
   "cell_type": "code",
   "execution_count": 381,
   "metadata": {},
   "outputs": [],
   "source": [
    "# unique_value, counts = np.unique(lg_feature_importance, return_counts=True)"
   ]
  },
  {
   "cell_type": "code",
   "execution_count": 382,
   "metadata": {},
   "outputs": [],
   "source": [
    "# print(f'Average Non-zero coefficient frequency of appearance in bootsrap: {unique_value}')\n",
    "# print(f'Counts of each average non-zero coefficient frequency: {counts}')"
   ]
  },
  {
   "cell_type": "code",
   "execution_count": 383,
   "metadata": {},
   "outputs": [],
   "source": [
    "# feature_importance_top_9_idx = np.argsort(lg_feature_importance)[-9:][::-1] # select top 20 feature indices\n",
    "\n",
    "# print(f'Top 20 Non-zero coefficient frequency INDEX of appearance in boot strap: {feature_importance_top_9_idx}')\n",
    "# print(f'Top 20 Non-zero coefficient frequency VALUE of appearance in boot strap: {lg_feature_importance[feature_importance_top_9_idx]}')"
   ]
  },
  {
   "cell_type": "markdown",
   "metadata": {},
   "source": [
    "## Correlation"
   ]
  },
  {
   "cell_type": "code",
   "execution_count": 384,
   "metadata": {},
   "outputs": [],
   "source": [
    "X_train, X_test, y_train, y_test = train_test_split(X, y, test_size=0.2, stratify=y, random_state=198)"
   ]
  },
  {
   "cell_type": "code",
   "execution_count": 385,
   "metadata": {},
   "outputs": [],
   "source": [
    "corr_matrix = X_train.corr()\n",
    "\n",
    "high_corr_pairs = [\n",
    "    (col1, col2) for col1 in corr_matrix.columns for col2 in corr_matrix.columns if col1 != col2 and abs(corr_matrix.loc[col1, col2] > 0.9)\n",
    "]"
   ]
  },
  {
   "cell_type": "code",
   "execution_count": 386,
   "metadata": {},
   "outputs": [],
   "source": [
    "to_drop = set()\n",
    "\n",
    "for col1, col2 in high_corr_pairs:\n",
    "  if col1 not in to_drop and col2 not in to_drop:\n",
    "    to_drop.add(col2)"
   ]
  },
  {
   "cell_type": "code",
   "execution_count": 387,
   "metadata": {},
   "outputs": [],
   "source": [
    "X_train = X_train.drop(columns=to_drop)\n",
    "X_test = X_test.drop(columns=to_drop)"
   ]
  },
  {
   "cell_type": "markdown",
   "metadata": {},
   "source": [
    "## L1 Logistic Regression - Backwards Selection"
   ]
  },
  {
   "cell_type": "code",
   "execution_count": 388,
   "metadata": {},
   "outputs": [
    {
     "name": "stdout",
     "output_type": "stream",
     "text": [
      "Selected Features: Index(['FSTL1', 'HCE004152', 'MIA', 'IGFBP-1', 'Met', 'PIK3CA/PIK3R1',\n",
      "       'b2-Microglobulin', 'HGFA', 'IL-6 sRa', 'PCSK7',\n",
      "       'Coagulation Factor IX', 'IgD', 'DERM', 'ILT-4', 'RELT',\n",
      "       'Semaphorin 3E', 'IL-17 RC', 'SRCN1', 'Epo', 'MIG'],\n",
      "      dtype='object')\n"
     ]
    }
   ],
   "source": [
    "# Initialize the model\n",
    "log_reg_forward_model = LogisticRegression(solver='liblinear', random_state=197)\n",
    "\n",
    "# Recursive Feature Elimination\n",
    "rfe = RFE(estimator=log_reg_forward_model, n_features_to_select=20)\n",
    "rfe.fit(X_train, y_train)\n",
    "\n",
    "# Selected features\n",
    "selected_features = X_train.columns[rfe.support_]\n",
    "print(\"Selected Features:\", selected_features)\n"
   ]
  },
  {
   "cell_type": "code",
   "execution_count": 389,
   "metadata": {},
   "outputs": [],
   "source": [
    "biomarker_rfe_top10_names = X_train.columns[np.argsort(rfe.ranking_)[:10]]"
   ]
  },
  {
   "cell_type": "code",
   "execution_count": 390,
   "metadata": {},
   "outputs": [
    {
     "data": {
      "image/png": "[encoded data removed]",
      "text/plain": [
       "<Figure size 600x600 with 1 Axes>"
      ]
     },
     "metadata": {},
     "output_type": "display_data"
    }
   ],
   "source": [
    "biomarker_rfe_top10_names = X_train.columns[np.argsort(rfe.ranking_)[:10]] # top 20 ranking importance names\n",
    "biomarker_rfe_top10_y = np.sort(rfe.ranking_)[:20]\n",
    "biomarker_rfe_top10_x = range(20)\n",
    "offset_index = range(20)\n",
    "\n",
    "ranking_sorted = np.sort(rfe.ranking_)\n",
    "\n",
    "x_axis = range(X_train.shape[1])\n",
    "y_axis = ranking_sorted\n",
    "\n",
    "fig, ax = plt.subplots(figsize=[6, 6]);\n",
    "plt.scatter(x=x_axis, y=y_axis, s=1);\n",
    "\n",
    "for x, y, name, idx in zip(biomarker_rfe_top10_x, biomarker_rfe_top10_y, biomarker_rfe_top10_names, offset_index):\n",
    "  ax.scatter(biomarker_rfe_top10_x, biomarker_rfe_top10_y, c='red', s=1);\n",
    "\n",
    "  offset_x = 40 if idx <= 10 else None\n",
    "  offset_y = (idx % 10) * 12 + 50\n",
    "\n",
    "  ax.annotate(\n",
    "    f'{name}' if idx <= 10 else None,\n",
    "    (x, y),\n",
    "    textcoords='offset points',\n",
    "    xytext=(offset_x, offset_y),\n",
    "    fontsize=6,\n",
    "    ha='center',\n",
    "    color='black',\n",
    "    bbox=dict(boxstyle='round,pad=0.3', edgecolor='black', facecolor='white', alpha=0.5) if idx <= 10 else None,\n",
    "    arrowprops=dict(arrowstyle='-', color='grey', linewidth=0.5) if idx <= 10 else None\n",
    "  )\n",
    "\n",
    "ax.set_xticks(ticks=());\n",
    "ax.set_xlabel('Protein');\n",
    "ax.set_ylabel('Ranks (Feature Importance)');\n",
    "ax.set_title('Recursive Feature Elimination - L1 Logistic Regression')\n",
    "  \n",
    "plt.show();\n"
   ]
  },
  {
   "cell_type": "markdown",
   "metadata": {},
   "source": [
    "# Random Forest - 5 Folds Cross Validation"
   ]
  },
  {
   "cell_type": "code",
   "execution_count": 391,
   "metadata": {},
   "outputs": [
    {
     "name": "stdout",
     "output_type": "stream",
     "text": [
      "{np.float64(0.7948717948717949)}\n",
      "{np.float64(0.75)}\n",
      "{np.float64(0.717948717948718)}\n",
      "{np.float64(0.8194444444444444)}\n",
      "{np.float64(0.673611111111111)}\n"
     ]
    }
   ],
   "source": [
    "from sklearn.model_selection import StratifiedKFold, cross_val_score\n",
    "from sklearn.metrics import roc_auc_score\n",
    "\n",
    "\n",
    "rf_model = RandomForestClassifier(n_estimators=100,\n",
    "                                  criterion='gini',\n",
    "                                  max_depth=15,\n",
    "                                  min_samples_split=5,\n",
    "                                  bootstrap=True,\n",
    "                                  random_state=197)\n",
    "\n",
    "kf = StratifiedKFold(n_splits=5, shuffle=True, random_state=197)\n",
    "\n",
    "feature_importance_rf = np.zeros(X_train.shape[1])\n",
    "\n",
    "for train_idx, test_idx in kf.split(X_train, y_train):\n",
    "  X_kf_train, X_kf_test = X_train.iloc[train_idx], X_train.iloc[test_idx]\n",
    "  y_kf_train, y_kf_test = y_train.iloc[train_idx], y_train.iloc[test_idx]\n",
    "\n",
    "  rf_model.fit(X_kf_train, y_kf_train)\n",
    "\n",
    "  feature_importance_rf += rf_model.feature_importances_\n",
    "\n",
    "  y_pred_prob = rf_model.predict_proba(X_kf_test)[:, 1]\n",
    "  auc = roc_auc_score(y_kf_test, y_pred_prob)\n",
    "  print({auc})"
   ]
  },
  {
   "cell_type": "code",
   "execution_count": 392,
   "metadata": {},
   "outputs": [
    {
     "data": {
      "text/html": [
       "<div>\n",
       "<style scoped>\n",
       "    .dataframe tbody tr th:only-of-type {\n",
       "        vertical-align: middle;\n",
       "    }\n",
       "\n",
       "    .dataframe tbody tr th {\n",
       "        vertical-align: top;\n",
       "    }\n",
       "\n",
       "    .dataframe thead th {\n",
       "        text-align: right;\n",
       "    }\n",
       "</style>\n",
       "<table border=\"1\" class=\"dataframe\">\n",
       "  <thead>\n",
       "    <tr style=\"text-align: right;\">\n",
       "      <th></th>\n",
       "      <th>Features</th>\n",
       "      <th>Importance</th>\n",
       "    </tr>\n",
       "  </thead>\n",
       "  <tbody>\n",
       "    <tr>\n",
       "      <th>962</th>\n",
       "      <td>ILT-4</td>\n",
       "      <td>0.014137</td>\n",
       "    </tr>\n",
       "    <tr>\n",
       "      <th>897</th>\n",
       "      <td>DERM</td>\n",
       "      <td>0.012502</td>\n",
       "    </tr>\n",
       "    <tr>\n",
       "      <th>873</th>\n",
       "      <td>IgD</td>\n",
       "      <td>0.010740</td>\n",
       "    </tr>\n",
       "    <tr>\n",
       "      <th>391</th>\n",
       "      <td>TNF sR-II</td>\n",
       "      <td>0.010178</td>\n",
       "    </tr>\n",
       "    <tr>\n",
       "      <th>255</th>\n",
       "      <td>Cadherin-5</td>\n",
       "      <td>0.007678</td>\n",
       "    </tr>\n",
       "    <tr>\n",
       "      <th>360</th>\n",
       "      <td>PTN</td>\n",
       "      <td>0.007294</td>\n",
       "    </tr>\n",
       "    <tr>\n",
       "      <th>611</th>\n",
       "      <td>CK-MB</td>\n",
       "      <td>0.006188</td>\n",
       "    </tr>\n",
       "    <tr>\n",
       "      <th>984</th>\n",
       "      <td>RELT</td>\n",
       "      <td>0.006156</td>\n",
       "    </tr>\n",
       "    <tr>\n",
       "      <th>586</th>\n",
       "      <td>DKK3</td>\n",
       "      <td>0.006035</td>\n",
       "    </tr>\n",
       "    <tr>\n",
       "      <th>711</th>\n",
       "      <td>MMP-2</td>\n",
       "      <td>0.005939</td>\n",
       "    </tr>\n",
       "    <tr>\n",
       "      <th>860</th>\n",
       "      <td>Calcineurin</td>\n",
       "      <td>0.005812</td>\n",
       "    </tr>\n",
       "    <tr>\n",
       "      <th>800</th>\n",
       "      <td>CDON</td>\n",
       "      <td>0.005615</td>\n",
       "    </tr>\n",
       "    <tr>\n",
       "      <th>234</th>\n",
       "      <td>IGFBP-1</td>\n",
       "      <td>0.005600</td>\n",
       "    </tr>\n",
       "    <tr>\n",
       "      <th>977</th>\n",
       "      <td>Notch 1</td>\n",
       "      <td>0.005420</td>\n",
       "    </tr>\n",
       "    <tr>\n",
       "      <th>51</th>\n",
       "      <td>FSTL1</td>\n",
       "      <td>0.005418</td>\n",
       "    </tr>\n",
       "    <tr>\n",
       "      <th>718</th>\n",
       "      <td>Aflatoxin B1 aldehyde reductase</td>\n",
       "      <td>0.004608</td>\n",
       "    </tr>\n",
       "    <tr>\n",
       "      <th>833</th>\n",
       "      <td>Gelsolin</td>\n",
       "      <td>0.004578</td>\n",
       "    </tr>\n",
       "    <tr>\n",
       "      <th>730</th>\n",
       "      <td>M2-PK</td>\n",
       "      <td>0.004299</td>\n",
       "    </tr>\n",
       "    <tr>\n",
       "      <th>1115</th>\n",
       "      <td>aldolase A</td>\n",
       "      <td>0.004274</td>\n",
       "    </tr>\n",
       "    <tr>\n",
       "      <th>121</th>\n",
       "      <td>CXCL16, soluble</td>\n",
       "      <td>0.004235</td>\n",
       "    </tr>\n",
       "  </tbody>\n",
       "</table>\n",
       "</div>"
      ],
      "text/plain": [
       "                             Features  Importance\n",
       "962                             ILT-4    0.014137\n",
       "897                              DERM    0.012502\n",
       "873                               IgD    0.010740\n",
       "391                         TNF sR-II    0.010178\n",
       "255                        Cadherin-5    0.007678\n",
       "360                               PTN    0.007294\n",
       "611                             CK-MB    0.006188\n",
       "984                              RELT    0.006156\n",
       "586                              DKK3    0.006035\n",
       "711                             MMP-2    0.005939\n",
       "860                       Calcineurin    0.005812\n",
       "800                              CDON    0.005615\n",
       "234                           IGFBP-1    0.005600\n",
       "977                           Notch 1    0.005420\n",
       "51                              FSTL1    0.005418\n",
       "718   Aflatoxin B1 aldehyde reductase    0.004608\n",
       "833                          Gelsolin    0.004578\n",
       "730                             M2-PK    0.004299\n",
       "1115                       aldolase A    0.004274\n",
       "121                   CXCL16, soluble    0.004235"
      ]
     },
     "execution_count": 392,
     "metadata": {},
     "output_type": "execute_result"
    }
   ],
   "source": [
    "feature_importance_rf /= kf.get_n_splits()\n",
    "\n",
    "feature_importance_df = pd.DataFrame({\n",
    "  'Features': X_train.columns,\n",
    "  'Importance': feature_importance_rf\n",
    "})\n",
    "\n",
    "top_20_features_rf = feature_importance_df.sort_values(by='Importance', ascending=False).head(20)\n",
    "top_20_features_rf"
   ]
  },
  {
   "cell_type": "code",
   "execution_count": 393,
   "metadata": {},
   "outputs": [
    {
     "name": "stderr",
     "output_type": "stream",
     "text": [
      "/var/folders/0n/rkp3_46s4kq642rgjzl4vzqh0000gn/T/ipykernel_12995/721433549.py:1: RuntimeWarning: divide by zero encountered in log\n",
      "  fi_rf_sorted = np.log(np.sort(feature_importance_rf))\n",
      "/var/folders/0n/rkp3_46s4kq642rgjzl4vzqh0000gn/T/ipykernel_12995/721433549.py:7: RuntimeWarning: divide by zero encountered in log\n",
      "  label_y = np.log(np.sort(feature_importance_rf))[-20:][::-1];\n"
     ]
    },
    {
     "data": {
      "image/png": "[encoded data removed]",
      "text/plain": [
       "<Figure size 600x600 with 1 Axes>"
      ]
     },
     "metadata": {},
     "output_type": "display_data"
    }
   ],
   "source": [
    "fi_rf_sorted = np.log(np.sort(feature_importance_rf))\n",
    "\n",
    "fig, ax = plt.subplots(figsize=[6, 6])\n",
    "ax.scatter(x=range(1194), y=fi_rf_sorted, s=1, alpha=0.8);\n",
    "\n",
    "# biomarker_clean.columns[np.argsort(feature_importance_rf)[-20:]]\n",
    "label_y = np.log(np.sort(feature_importance_rf))[-20:][::-1];\n",
    "label_x = range(1194)[-20:][::-1]\n",
    "biomarker_name = top_20_features_rf['Features'][-20:]\n",
    "offsets_1 = range(20)[::-1]\n",
    "\n",
    "for x, y, name, idx in zip(label_x, label_y, biomarker_name, offsets_1):\n",
    "  offset_x = -60 if idx >= 10 else 0  # Labels for first 10 points to the left, next 10 to the right\n",
    "  offset_y = (idx % 10) * 10 - 90     # Stagger labels vertically to prevent overlap\n",
    "\n",
    "  ax.scatter(x, y, c='red', s=1);\n",
    "  ax.annotate(\n",
    "    f'{name}' if idx >= 10 else None,\n",
    "    (x, y),\n",
    "    textcoords='offset points',\n",
    "    xytext=(offset_x, offset_y),\n",
    "    ha='center',\n",
    "    fontsize=6,\n",
    "    color='black',\n",
    "    bbox=dict(boxstyle='round,pad=0.3', edgecolor='black', facecolor='white', linewidth=0.5, alpha=0.5),\n",
    "    arrowprops=dict(arrowstyle=\"-\", color='gray', lw=0.5) if idx >= 10 else None\n",
    "  )\n",
    "\n",
    "ax.set_xticks(ticks=());\n",
    "ax.set_xlabel('Proteins')\n",
    "ax.set_ylabel('log Average of 5 folds Feature Importance')\n",
    "ax.set_title('Feature Importance of Random Forest - 5 Folds CV')\n",
    "\n",
    "plt.show();"
   ]
  },
  {
   "cell_type": "code",
   "execution_count": 394,
   "metadata": {},
   "outputs": [
    {
     "name": "stdout",
     "output_type": "stream",
     "text": [
      "Overlapping features: ['MIG', 'M2-PK', 'IL-6 sRa', 'IgD', 'RELT', 'CDON', 'Gelsolin', 'SRCN1', 'Cadherin-5', 'IL-17 RC', 'MMP-2', 'Calcineurin', 'PCSK7', 'Semaphorin 3E', 'PIK3CA/PIK3R1', 'MIA', 'ILT-4', 'Epo', 'Notch 1', 'Coagulation Factor IX', 'TNF sR-II', 'CXCL16, soluble', 'IGFBP-1', 'Met', 'FSTL1', 'b2-Microglobulin', 'HCE004152', 'PTN', 'HGFA', 'aldolase A', 'CK-MB', 'DKK3', 'DERM', 'Aflatoxin B1 aldehyde reductase']\n"
     ]
    }
   ],
   "source": [
    "# Find the overlapping features\n",
    "overlapping_features = set(selected_features).union(top_20_features_rf.loc[:, 'Features'])\n",
    "\n",
    "# Convert the result to a list if needed\n",
    "overlapping_features = list(overlapping_features)\n",
    "\n",
    "print(\"Overlapping features:\", overlapping_features)"
   ]
  },
  {
   "cell_type": "markdown",
   "metadata": {},
   "source": [
    "## Elastic Net Logistic Regression - Backwards Selection"
   ]
  },
  {
   "cell_type": "code",
   "execution_count": 395,
   "metadata": {},
   "outputs": [],
   "source": [
    "# All features to be select\n",
    "X_overlapping_features = X_train.loc[:, overlapping_features]\n",
    "\n",
    "# Initialize the model\n",
    "lg_model_eln = LogisticRegression(solver='saga', penalty='elasticnet',\n",
    "                                  C=1.0, l1_ratio=0.5, random_state=197, max_iter=500)\n",
    "# Forward Selection\n",
    "sfs = RFE(estimator=lg_model_eln,\n",
    "          n_features_to_select=6)\n",
    "\n",
    "sfs.fit(X_overlapping_features, y_train)\n",
    "\n",
    "# Selected features\n",
    "selected_features = sfs.get_support(indices=True)\n",
    "\n",
    "protein_panel_name = X_overlapping_features.columns[selected_features]\n",
    "protein_panel_idx = selected_features\n",
    "# X_overlapping_features.columns = range(len(X_overlapping_features.columns))\n",
    "X_protein_panel = X_overlapping_features.iloc[:, selected_features]"
   ]
  },
  {
   "cell_type": "code",
   "execution_count": 396,
   "metadata": {},
   "outputs": [],
   "source": [
    "# Initialize the model\n",
    "lg_model_final = LogisticRegression(solver='liblinear', random_state=197, max_iter=500).fit(X_protein_panel, y_train)\n"
   ]
  },
  {
   "cell_type": "code",
   "execution_count": 397,
   "metadata": {},
   "outputs": [],
   "source": [
    "cm = confusion_matrix(y_test, lg_model_final.predict(X_test.loc[:, protein_panel_name]))\n",
    "np.savetxt('../../data/confusion_matrix.csv', cm, delimiter=',', fmt='%d')"
   ]
  },
  {
   "cell_type": "code",
   "execution_count": 398,
   "metadata": {},
   "outputs": [
    {
     "data": {
      "image/png": "[encoded data removed]",
      "text/plain": [
       "<Figure size 800x800 with 1 Axes>"
      ]
     },
     "metadata": {},
     "output_type": "display_data"
    }
   ],
   "source": [
    "cm = np.loadtxt('../../data/confusion_matrix.csv', delimiter=',')\n",
    "fig, ax = plt.subplots(figsize=[8, 8])\n",
    "ax.imshow(cm, cmap=\"Blues\")\n",
    "ax.xaxis.set(ticks=(0, 1), ticklabels=('Predicted TD', 'Predicted ASD'))\n",
    "ax.yaxis.set(ticks=(0, 1), ticklabels=('Actual TD', 'Actual ASD'))\n",
    "for i in range(2):\n",
    "  for j in range(2):\n",
    "    ax.text(j, i, cm[i, j], ha='center', va='center', color='black', fontdict={'fontsize': 20})\n",
    "ax.grid(False)\n",
    "ax.set_title('Confusion Matrix of Final Predictions')\n",
    "plt.show();\n",
    "\n"
   ]
  },
  {
   "cell_type": "code",
   "execution_count": 399,
   "metadata": {},
   "outputs": [
    {
     "name": "stdout",
     "output_type": "stream",
     "text": [
      "              precision    recall  f1-score   support\n",
      "\n",
      "           0       0.93      0.81      0.87        16\n",
      "           1       0.82      0.93      0.88        15\n",
      "\n",
      "    accuracy                           0.87        31\n",
      "   macro avg       0.88      0.87      0.87        31\n",
      "weighted avg       0.88      0.87      0.87        31\n",
      "\n"
     ]
    }
   ],
   "source": [
    "from sklearn.metrics import classification_report, roc_auc_score\n",
    "print(classification_report(y_test, lg_model_final.predict(X_test.loc[:, protein_panel_name])))"
   ]
  },
  {
   "cell_type": "code",
   "execution_count": 400,
   "metadata": {},
   "outputs": [
    {
     "data": {
      "text/plain": [
       "np.float64(0.8729166666666667)"
      ]
     },
     "execution_count": 400,
     "metadata": {},
     "output_type": "execute_result"
    }
   ],
   "source": [
    "roc_auc_score(y_test, lg_model_final.predict(X_test.loc[:, protein_panel_name]))"
   ]
  },
  {
   "cell_type": "markdown",
   "metadata": {},
   "source": [
    "# Final Protein"
   ]
  },
  {
   "cell_type": "code",
   "execution_count": 401,
   "metadata": {},
   "outputs": [
    {
     "data": {
      "text/plain": [
       "Index(['IL-6 sRa', 'IgD', 'SRCN1', 'IL-17 RC', 'Coagulation Factor IX',\n",
       "       'FSTL1'],\n",
       "      dtype='object')"
      ]
     },
     "execution_count": 401,
     "metadata": {},
     "output_type": "execute_result"
    }
   ],
   "source": [
    "protein_panel_name"
   ]
  },
  {
   "cell_type": "code",
   "execution_count": 409,
   "metadata": {},
   "outputs": [],
   "source": [
    "# Filter out non-pickleable objects\n",
    "q4_variables = {\n",
    "  'biomarker_rfe_top10_x': biomarker_rfe_top10_x, \n",
    "  'biomarker_rfe_top10_y': biomarker_rfe_top10_y, \n",
    "  'biomarker_rfe_top10_names': biomarker_rfe_top10_names, \n",
    "  'offset_index': offset_index,\n",
    "  'ranking_sorted': ranking_sorted,\n",
    "  'x_axis': x_axis,\n",
    "  'y_axis': y_axis,\n",
    "  'label_x': label_x, \n",
    "  'label_y': label_y, \n",
    "  'biomarker_name': biomarker_name, \n",
    "  'offsets_1': offsets_1,\n",
    "  'fi_rf_sorted': fi_rf_sorted\n",
    "}\n",
    "with open('../../data/q4_variables.pkl', 'wb') as f:\n",
    "  pickle.dump(q4_variables, f)\n"
   ]
  },
  {
   "cell_type": "code",
   "execution_count": null,
   "metadata": {},
   "outputs": [],
   "source": []
  }
 ],
 "metadata": {
  "kernelspec": {
   "display_name": "pstat",
   "language": "python",
   "name": "python3"
  },
  "language_info": {
   "codemirror_mode": {
    "name": "ipython",
    "version": 3
   },
   "file_extension": ".py",
   "mimetype": "text/x-python",
   "name": "python",
   "nbconvert_exporter": "python",
   "pygments_lexer": "ipython3",
   "version": "3.12.7"
  }
 },
 "nbformat": 4,
 "nbformat_minor": 2
}
