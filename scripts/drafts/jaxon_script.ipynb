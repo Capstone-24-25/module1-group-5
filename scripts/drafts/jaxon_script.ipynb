{
 "cells": [
  {
   "cell_type": "code",
   "execution_count": 103,
   "metadata": {},
   "outputs": [],
   "source": [
    "import pandas as pd\n",
    "import numpy as np\n",
    "import matplotlib.pyplot as plt"
   ]
  },
  {
   "cell_type": "code",
   "execution_count": 79,
   "metadata": {},
   "outputs": [],
   "source": [
    "# read data\n",
    "biomarker_clean = pd.read_csv('../../data/biomarker_clean.csv')"
   ]
  },
  {
   "cell_type": "code",
   "execution_count": 80,
   "metadata": {},
   "outputs": [
    {
     "data": {
      "text/plain": [
       "Index(['Unnamed: 0', 'group', 'ados', 'CHIP', 'CEBPB', 'NSE', 'PIAS4',\n",
       "       'IL-10 Ra', 'STAT3', 'IRF1',\n",
       "       ...\n",
       "       'UB2G2', 'Transgelin-2', 'ATPO', 'Corticotropin-lipotropin', 'QORL1',\n",
       "       'PEDF', 'CATF', 'FTCD', 'UBP25', 'PLXB2'],\n",
       "      dtype='object', length=1320)"
      ]
     },
     "execution_count": 80,
     "metadata": {},
     "output_type": "execute_result"
    }
   ],
   "source": [
    "# see column names\n",
    "biomarker_clean.columns"
   ]
  },
  {
   "cell_type": "code",
   "execution_count": 81,
   "metadata": {},
   "outputs": [],
   "source": [
    "# drop the unnamed column and ados\n",
    "biomarker_clean = biomarker_clean.drop(['Unnamed: 0'], axis=1)"
   ]
  },
  {
   "cell_type": "markdown",
   "metadata": {},
   "source": [
    "ADOS diagnostic algo- rithms consisting of two behavioral domains: Social Affect (SA) and Restricted and Repetitive Behaviors (RRB) were used to determine an ADOS total score, which provides a continuous measure of overall ASD symptom severity."
   ]
  },
  {
   "cell_type": "code",
   "execution_count": 82,
   "metadata": {},
   "outputs": [
    {
     "data": {
      "text/plain": [
       "group\n",
       "TD    78\n",
       "Name: count, dtype: int64"
      ]
     },
     "execution_count": 82,
     "metadata": {},
     "output_type": "execute_result"
    }
   ],
   "source": [
    "biomarker_clean[biomarker_clean['ados'].isna()]['group'].value_counts()"
   ]
  },
  {
   "cell_type": "code",
   "execution_count": 83,
   "metadata": {},
   "outputs": [
    {
     "data": {
      "text/plain": [
       "group\n",
       "ASD    76\n",
       "Name: count, dtype: int64"
      ]
     },
     "execution_count": 83,
     "metadata": {},
     "output_type": "execute_result"
    }
   ],
   "source": [
    "biomarker_clean[biomarker_clean['ados'].notna()]['group'].value_counts()"
   ]
  },
  {
   "cell_type": "markdown",
   "metadata": {},
   "source": [
    "# Binomial classification"
   ]
  },
  {
   "cell_type": "code",
   "execution_count": 84,
   "metadata": {},
   "outputs": [],
   "source": [
    "biomarker_clean = biomarker_clean.drop(['ados'], axis=1)\n"
   ]
  },
  {
   "cell_type": "code",
   "execution_count": 85,
   "metadata": {},
   "outputs": [],
   "source": [
    "biomarker_clean['group'] = biomarker_clean['group'].apply(lambda x: 1 if x == 'ASD' else 0).astype(int)"
   ]
  },
  {
   "cell_type": "code",
   "execution_count": 86,
   "metadata": {},
   "outputs": [],
   "source": [
    "X = biomarker_clean.loc[:, 'CHIP':]\n",
    "y = biomarker_clean.loc[:, 'group']"
   ]
  },
  {
   "cell_type": "code",
   "execution_count": 87,
   "metadata": {},
   "outputs": [],
   "source": [
    "from sklearn.ensemble import RandomForestClassifier\n",
    "from sklearn.model_selection import train_test_split\n",
    "from sklearn.linear_model import LogisticRegression"
   ]
  },
  {
   "cell_type": "markdown",
   "metadata": {},
   "source": [
    "sklearn.utils.resample(*arrays, replace=True, n_samples=None, random_state=None, stratify=None)[source]\n",
    "Resample arrays or sparse matrices in a consistent way.\n",
    "\n",
    "The default strategy implements one step of the bootstrapping procedure."
   ]
  },
  {
   "cell_type": "markdown",
   "metadata": {},
   "source": [
    "## Random Forest"
   ]
  },
  {
   "cell_type": "code",
   "execution_count": 88,
   "metadata": {},
   "outputs": [],
   "source": [
    "# rf_model = RandomForestClassifier(n_estimators=100,\n",
    "#                                   criterion='gini',\n",
    "#                                   max_depth=15,\n",
    "#                                   min_samples_split=5,\n",
    "#                                   bootstrap=True,\n",
    "#                                   random_state=197)\n",
    "# rf_model.fit(X_train, y_train)\n",
    "# rf_feature_importance = rf_model.feature_importances_"
   ]
  },
  {
   "cell_type": "code",
   "execution_count": 89,
   "metadata": {},
   "outputs": [],
   "source": [
    "# rf_top_feature_importance_idx = np.argsort(rf_feature_importance)[-20:][::-1]\n",
    "# rf_biomarker_clean = biomarker_clean.columns[rf_top_feature_importance_idx]\n",
    "# rf_biomarker_clean"
   ]
  },
  {
   "cell_type": "markdown",
   "metadata": {},
   "source": [
    "## Select top 20 proteins"
   ]
  },
  {
   "cell_type": "code",
   "execution_count": 90,
   "metadata": {},
   "outputs": [],
   "source": [
    "# X_rf_top_20 = X_train.loc[:, rf_biomarker_clean]\n",
    "# y_rf_top_20 = y_train\n",
    "# lg_feature_importance = np.zeros(X_rf_top_20.shape[1]) # size = number of features"
   ]
  },
  {
   "cell_type": "code",
   "execution_count": 91,
   "metadata": {},
   "outputs": [],
   "source": [
    "# for i in range(50):\n",
    "#   X_bootstrap, y_bootstrap = resample(X_rf_top_20, y_rf_top_20, random_state=i)\n",
    "\n",
    "#   lg_model = LogisticRegression(solver='liblinear', C=1, penalty='l1', random_state=i).fit(X_bootstrap, y_bootstrap)\n",
    "\n",
    "#   lg_feature_importance += (lg_model.coef_ != 0).sum(axis=0) # sum over rows\n",
    "\n",
    "# lg_feature_importance /= 50 # calculate the average of non-zero features\n"
   ]
  },
  {
   "cell_type": "code",
   "execution_count": 92,
   "metadata": {},
   "outputs": [],
   "source": [
    "# unique_value, counts = np.unique(lg_feature_importance, return_counts=True)"
   ]
  },
  {
   "cell_type": "code",
   "execution_count": 93,
   "metadata": {},
   "outputs": [],
   "source": [
    "# print(f'Average Non-zero coefficient frequency of appearance in bootsrap: {unique_value}')\n",
    "# print(f'Counts of each average non-zero coefficient frequency: {counts}')"
   ]
  },
  {
   "cell_type": "code",
   "execution_count": 94,
   "metadata": {},
   "outputs": [],
   "source": [
    "# feature_importance_top_9_idx = np.argsort(lg_feature_importance)[-9:][::-1] # select top 20 feature indices\n",
    "\n",
    "# print(f'Top 20 Non-zero coefficient frequency INDEX of appearance in boot strap: {feature_importance_top_9_idx}')\n",
    "# print(f'Top 20 Non-zero coefficient frequency VALUE of appearance in boot strap: {lg_feature_importance[feature_importance_top_9_idx]}')"
   ]
  },
  {
   "cell_type": "markdown",
   "metadata": {},
   "source": [
    "## 5 Proteins that have the most average weights by 100-bootstrap"
   ]
  },
  {
   "cell_type": "code",
   "execution_count": 97,
   "metadata": {},
   "outputs": [],
   "source": [
    "X_train, X_test, y_train, y_test = train_test_split(X, y, test_size=0.2, stratify=y, random_state=198)"
   ]
  },
  {
   "cell_type": "code",
   "execution_count": 75,
   "metadata": {},
   "outputs": [],
   "source": [
    "corr_matrix = X_train.corr()\n",
    "\n",
    "high_corr_pairs = [\n",
    "    (col1, col2) for col1 in corr_matrix.columns for col2 in corr_matrix.columns if col1 != col2 and abs(corr_matrix.loc[col1, col2] > 0.9)\n",
    "]"
   ]
  },
  {
   "cell_type": "code",
   "execution_count": 76,
   "metadata": {},
   "outputs": [],
   "source": [
    "to_drop = set()\n",
    "\n",
    "for col1, col2 in high_corr_pairs:\n",
    "  if col1 not in to_drop and col2 not in to_drop:\n",
    "    to_drop.add(col2)"
   ]
  },
  {
   "cell_type": "code",
   "execution_count": 77,
   "metadata": {},
   "outputs": [],
   "source": [
    "X_train = X_train.drop(columns=to_drop)\n",
    "X_test = X_test.drop(columns=to_drop)"
   ]
  },
  {
   "cell_type": "code",
   "execution_count": 98,
   "metadata": {},
   "outputs": [
    {
     "name": "stdout",
     "output_type": "stream",
     "text": [
      "Selected Features: Index(['HCE004152', 'MIA', 'IGFBP-1', 'PIK3CA/PIK3R1', 'b2-Microglobulin',\n",
      "       'HGFA', 'MAPK2', 'IL-6 sRa', 'ENTP5', 'PCSK7', 'ITI heavy chain H4',\n",
      "       'IgD', 'DERM', 'ILT-4', 'TAJ', 'Semaphorin 3E', 'IL-17 RC', 'SRCN1',\n",
      "       'Epo', 'MIG'],\n",
      "      dtype='object')\n"
     ]
    }
   ],
   "source": [
    "from sklearn.feature_selection import RFE\n",
    "from mlxtend.feature_selection import SequentialFeatureSelector as SFS\n",
    "\n",
    "# Initialize the model\n",
    "log_reg_forward_model = LogisticRegression(solver='liblinear', random_state=197)\n",
    "\n",
    "# Recursive Feature Elimination\n",
    "rfe = RFE(estimator=log_reg_forward_model, n_features_to_select=20)\n",
    "rfe.fit(X_train, y_train)\n",
    "\n",
    "# Selected features\n",
    "selected_features = X_train.columns[rfe.support_]\n",
    "print(\"Selected Features:\", selected_features)\n"
   ]
  },
  {
   "cell_type": "markdown",
   "metadata": {},
   "source": [
    "# Random Forest"
   ]
  },
  {
   "cell_type": "code",
   "execution_count": 190,
   "metadata": {},
   "outputs": [
    {
     "name": "stdout",
     "output_type": "stream",
     "text": [
      "{np.float64(0.7371794871794871)}\n",
      "{np.float64(0.7692307692307693)}\n",
      "{np.float64(0.75)}\n",
      "{np.float64(0.8333333333333334)}\n",
      "{np.float64(0.7083333333333335)}\n"
     ]
    }
   ],
   "source": [
    "from sklearn.model_selection import StratifiedKFold, cross_val_score\n",
    "from sklearn.metrics import roc_auc_score\n",
    "\n",
    "\n",
    "rf_model = RandomForestClassifier(n_estimators=100,\n",
    "                                  criterion='gini',\n",
    "                                  max_depth=15,\n",
    "                                  min_samples_split=5,\n",
    "                                  bootstrap=True,\n",
    "                                  random_state=197)\n",
    "\n",
    "kf = StratifiedKFold(n_splits=5, shuffle=True, random_state=197)\n",
    "\n",
    "feature_importance_rf = np.zeros(X_train.shape[1])\n",
    "\n",
    "for train_idx, test_idx in kf.split(X_train, y_train):\n",
    "  X_kf_train, X_kf_test = X_train.iloc[train_idx], X_train.iloc[test_idx]\n",
    "  y_kf_train, y_kf_test = y_train.iloc[train_idx], y_train.iloc[test_idx]\n",
    "\n",
    "  rf_model.fit(X_kf_train, y_kf_train)\n",
    "\n",
    "  feature_importance_rf += rf_model.feature_importances_\n",
    "\n",
    "  y_pred_prob = rf_model.predict_proba(X_kf_test)[:, 1]\n",
    "  auc = roc_auc_score(y_kf_test, y_pred_prob)\n",
    "  print({auc})"
   ]
  },
  {
   "cell_type": "code",
   "execution_count": 191,
   "metadata": {},
   "outputs": [
    {
     "data": {
      "text/html": [
       "<div>\n",
       "<style scoped>\n",
       "    .dataframe tbody tr th:only-of-type {\n",
       "        vertical-align: middle;\n",
       "    }\n",
       "\n",
       "    .dataframe tbody tr th {\n",
       "        vertical-align: top;\n",
       "    }\n",
       "\n",
       "    .dataframe thead th {\n",
       "        text-align: right;\n",
       "    }\n",
       "</style>\n",
       "<table border=\"1\" class=\"dataframe\">\n",
       "  <thead>\n",
       "    <tr style=\"text-align: right;\">\n",
       "      <th></th>\n",
       "      <th>Features</th>\n",
       "      <th>Importance</th>\n",
       "    </tr>\n",
       "  </thead>\n",
       "  <tbody>\n",
       "    <tr>\n",
       "      <th>1059</th>\n",
       "      <td>ILT-4</td>\n",
       "      <td>0.010248</td>\n",
       "    </tr>\n",
       "    <tr>\n",
       "      <th>988</th>\n",
       "      <td>DERM</td>\n",
       "      <td>0.009397</td>\n",
       "    </tr>\n",
       "    <tr>\n",
       "      <th>167</th>\n",
       "      <td>gp130, soluble</td>\n",
       "      <td>0.008341</td>\n",
       "    </tr>\n",
       "    <tr>\n",
       "      <th>81</th>\n",
       "      <td>EFNB2</td>\n",
       "      <td>0.007920</td>\n",
       "    </tr>\n",
       "    <tr>\n",
       "      <th>195</th>\n",
       "      <td>ERBB1</td>\n",
       "      <td>0.007676</td>\n",
       "    </tr>\n",
       "    <tr>\n",
       "      <th>961</th>\n",
       "      <td>IgD</td>\n",
       "      <td>0.007333</td>\n",
       "    </tr>\n",
       "    <tr>\n",
       "      <th>948</th>\n",
       "      <td>Calcineurin</td>\n",
       "      <td>0.006982</td>\n",
       "    </tr>\n",
       "    <tr>\n",
       "      <th>1162</th>\n",
       "      <td>OMD</td>\n",
       "      <td>0.006772</td>\n",
       "    </tr>\n",
       "    <tr>\n",
       "      <th>201</th>\n",
       "      <td>MIA</td>\n",
       "      <td>0.006582</td>\n",
       "    </tr>\n",
       "    <tr>\n",
       "      <th>691</th>\n",
       "      <td>MAPK2</td>\n",
       "      <td>0.006142</td>\n",
       "    </tr>\n",
       "    <tr>\n",
       "      <th>52</th>\n",
       "      <td>FSTL1</td>\n",
       "      <td>0.005857</td>\n",
       "    </tr>\n",
       "    <tr>\n",
       "      <th>529</th>\n",
       "      <td>PIK3CA/PIK3R1</td>\n",
       "      <td>0.005613</td>\n",
       "    </tr>\n",
       "    <tr>\n",
       "      <th>662</th>\n",
       "      <td>Angiostatin</td>\n",
       "      <td>0.004906</td>\n",
       "    </tr>\n",
       "    <tr>\n",
       "      <th>1232</th>\n",
       "      <td>aldolase A</td>\n",
       "      <td>0.004812</td>\n",
       "    </tr>\n",
       "    <tr>\n",
       "      <th>343</th>\n",
       "      <td>ESAM</td>\n",
       "      <td>0.004536</td>\n",
       "    </tr>\n",
       "    <tr>\n",
       "      <th>1081</th>\n",
       "      <td>RELT</td>\n",
       "      <td>0.004372</td>\n",
       "    </tr>\n",
       "    <tr>\n",
       "      <th>881</th>\n",
       "      <td>CDON</td>\n",
       "      <td>0.004250</td>\n",
       "    </tr>\n",
       "    <tr>\n",
       "      <th>1280</th>\n",
       "      <td>ROR1</td>\n",
       "      <td>0.003987</td>\n",
       "    </tr>\n",
       "    <tr>\n",
       "      <th>86</th>\n",
       "      <td>C1QR1</td>\n",
       "      <td>0.003889</td>\n",
       "    </tr>\n",
       "    <tr>\n",
       "      <th>44</th>\n",
       "      <td>SOST</td>\n",
       "      <td>0.003861</td>\n",
       "    </tr>\n",
       "  </tbody>\n",
       "</table>\n",
       "</div>"
      ],
      "text/plain": [
       "            Features  Importance\n",
       "1059           ILT-4    0.010248\n",
       "988             DERM    0.009397\n",
       "167   gp130, soluble    0.008341\n",
       "81             EFNB2    0.007920\n",
       "195            ERBB1    0.007676\n",
       "961              IgD    0.007333\n",
       "948      Calcineurin    0.006982\n",
       "1162             OMD    0.006772\n",
       "201              MIA    0.006582\n",
       "691            MAPK2    0.006142\n",
       "52             FSTL1    0.005857\n",
       "529    PIK3CA/PIK3R1    0.005613\n",
       "662      Angiostatin    0.004906\n",
       "1232      aldolase A    0.004812\n",
       "343             ESAM    0.004536\n",
       "1081            RELT    0.004372\n",
       "881             CDON    0.004250\n",
       "1280            ROR1    0.003987\n",
       "86             C1QR1    0.003889\n",
       "44              SOST    0.003861"
      ]
     },
     "execution_count": 191,
     "metadata": {},
     "output_type": "execute_result"
    }
   ],
   "source": [
    "feature_importance_rf /= kf.get_n_splits()\n",
    "\n",
    "feature_importance_df = pd.DataFrame({\n",
    "  'Features': X_train.columns,\n",
    "  'Importance': feature_importance_rf\n",
    "})\n",
    "\n",
    "top_20_features_rf = feature_importance_df.sort_values(by='Importance', ascending=False).head(20)\n",
    "top_20_features_rf"
   ]
  },
  {
   "cell_type": "code",
   "execution_count": 192,
   "metadata": {},
   "outputs": [
    {
     "name": "stderr",
     "output_type": "stream",
     "text": [
      "/var/folders/0n/rkp3_46s4kq642rgjzl4vzqh0000gn/T/ipykernel_9460/3278812926.py:8: RuntimeWarning: divide by zero encountered in log\n",
      "  ax.scatter(x=range(1317), y=np.log(np.sort(feature_importance_rf)), s=1, alpha=0.8);\n",
      "/var/folders/0n/rkp3_46s4kq642rgjzl4vzqh0000gn/T/ipykernel_9460/3278812926.py:11: RuntimeWarning: divide by zero encountered in log\n",
      "  label_y = np.log(np.sort(feature_importance_rf))[-20:][::-1];\n"
     ]
    },
    {
     "data": {
      "image/png": "[encoded data removed]",
      "text/plain": [
       "<Figure size 600x600 with 1 Axes>"
      ]
     },
     "metadata": {},
     "output_type": "display_data"
    }
   ],
   "source": [
    "fig, ax = plt.subplots(figsize=[6, 6])\n",
    "ax.scatter(x=range(1317), y=np.log(np.sort(feature_importance_rf)), s=1, alpha=0.8);\n",
    "\n",
    "# biomarker_clean.columns[np.argsort(feature_importance_rf)[-20:]]\n",
    "label_y = np.log(np.sort(feature_importance_rf))[-20:][::-1];\n",
    "label_x = range(1317)[-20:][::-1]\n",
    "biomarker_name = top_20_features_rf['Features'][-20:]\n",
    "offsets = range(20)[::-1]\n",
    "\n",
    "for x, y, name, idx in zip(label_x, label_y, biomarker_name, offsets):\n",
    "  offset_x = -60 if idx >= 10 else 0  # Labels for first 10 points to the left, next 10 to the right\n",
    "  offset_y = (idx % 10) * 10 - 90     # Stagger labels vertically to prevent overlap\n",
    "\n",
    "  ax.scatter(x, y, c='red', s=1);\n",
    "  ax.annotate(\n",
    "    f'{name}' if idx >= 10 else None,\n",
    "    (x, y),\n",
    "    textcoords='offset points',\n",
    "    xytext=(offset_x, offset_y),\n",
    "    ha='center',\n",
    "    fontsize=6,\n",
    "    color='black',\n",
    "    bbox=dict(boxstyle='round,pad=0.3', edgecolor='black', facecolor='white', linewidth=0.5, alpha=0.5),\n",
    "    arrowprops=dict(arrowstyle=\"-\", color='gray', lw=0.5) if idx >= 10 else None\n",
    "  )\n",
    "\n",
    "ax.set_xticks(ticks=());\n",
    "ax.set_xlabel('Proteins')\n",
    "ax.set_ylabel('log Average of 5 folds Feature Importance')\n",
    "ax.set_title('Feature Importance of Random Forest - 5 Folds CV')\n",
    "\n",
    "plt.show();"
   ]
  },
  {
   "cell_type": "code",
   "execution_count": 183,
   "metadata": {},
   "outputs": [
    {
     "data": {
      "text/plain": [
       "Index(['Features', 'Importance'], dtype='object')"
      ]
     },
     "execution_count": 183,
     "metadata": {},
     "output_type": "execute_result"
    }
   ],
   "source": [
    "top_20_features_rf.columns"
   ]
  },
  {
   "cell_type": "code",
   "execution_count": 184,
   "metadata": {},
   "outputs": [
    {
     "name": "stdout",
     "output_type": "stream",
     "text": [
      "Overlapping features: ['MIA', 'TAJ', 'Calcineurin', 'SOST', 'b2-Microglobulin', 'MAPK2', 'ESAM', 'CDON', 'Semaphorin 3E', 'ENTP5', 'OMD', 'ITI heavy chain H4', 'ILT-4', 'IL-6 sRa', 'EFNB2', 'C1QR1', 'ROR1', 'PIK3CA/PIK3R1', 'PCSK7', 'ERBB1', 'SRCN1', 'gp130, soluble', 'Angiostatin', 'DERM', 'Epo', 'FSTL1', 'IgD', 'IL-17 RC', 'MIG', 'IGFBP-1', 'aldolase A', 'RELT', 'HGFA', 'HCE004152']\n"
     ]
    }
   ],
   "source": [
    "# Find the overlapping features\n",
    "overlapping_features = set(selected_features).union(top_20_features_rf.loc[:, 'Features'])\n",
    "\n",
    "# Convert the result to a list if needed\n",
    "overlapping_features = list(overlapping_features)\n",
    "\n",
    "print(\"Overlapping features:\", overlapping_features)"
   ]
  },
  {
   "cell_type": "markdown",
   "metadata": {},
   "source": [
    "## Final Backwards Selection"
   ]
  },
  {
   "cell_type": "code",
   "execution_count": 185,
   "metadata": {},
   "outputs": [
    {
     "name": "stdout",
     "output_type": "stream",
     "text": [
      "Selected Features: Index(['b2-Microglobulin', 'ITI heavy chain H4', 'SRCN1', 'DERM', 'IL-17 RC',\n",
      "       'MIG'],\n",
      "      dtype='object')\n"
     ]
    }
   ],
   "source": [
    "from sklearn.metrics import confusion_matrix\n",
    "from matplotlib import pyplot as plt\n",
    "\n",
    "X_final_training = X_train.loc[:, overlapping_features]\n",
    "\n",
    "# Initialize the model\n",
    "lg_model_final = LogisticRegression(solver='saga', penalty='elasticnet',\n",
    "                                    C=1.0, l1_ratio=0.5, random_state=197, max_iter=500).fit(X_final_training, y_train)\n",
    "\n",
    "# Recursive Feature Elimination\n",
    "rfe = RFE(estimator=lg_model_final, n_features_to_select=6)\n",
    "rfe.fit(X_final_training, y_train)\n",
    "\n",
    "# Selected features\n",
    "selected_features = X_final_training.columns[rfe.support_]\n",
    "print(\"Selected Features:\", selected_features)\n"
   ]
  },
  {
   "cell_type": "code",
   "execution_count": 186,
   "metadata": {},
   "outputs": [],
   "source": [
    "# Initialize the model\n",
    "lg_model_final = LogisticRegression(solver='liblinear', random_state=197, max_iter=500).fit(X_train.loc[:, selected_features], y_train)\n"
   ]
  },
  {
   "cell_type": "code",
   "execution_count": 187,
   "metadata": {},
   "outputs": [
    {
     "ename": "FileNotFoundError",
     "evalue": "[Errno 2] No such file or directory: '../data/confusion_matrix.csv'",
     "output_type": "error",
     "traceback": [
      "\u001b[0;31m---------------------------------------------------------------------------\u001b[0m",
      "\u001b[0;31mFileNotFoundError\u001b[0m                         Traceback (most recent call last)",
      "Cell \u001b[0;32mIn[187], line 2\u001b[0m\n\u001b[1;32m      1\u001b[0m cm \u001b[38;5;241m=\u001b[39m confusion_matrix(y_test, lg_model_final\u001b[38;5;241m.\u001b[39mpredict(X_test\u001b[38;5;241m.\u001b[39mloc[:, selected_features]))\n\u001b[0;32m----> 2\u001b[0m \u001b[43mnp\u001b[49m\u001b[38;5;241;43m.\u001b[39;49m\u001b[43msavetxt\u001b[49m\u001b[43m(\u001b[49m\u001b[38;5;124;43m'\u001b[39;49m\u001b[38;5;124;43m../data/confusion_matrix.csv\u001b[39;49m\u001b[38;5;124;43m'\u001b[39;49m\u001b[43m,\u001b[49m\u001b[43m \u001b[49m\u001b[43mcm\u001b[49m\u001b[43m,\u001b[49m\u001b[43m \u001b[49m\u001b[43mdelimiter\u001b[49m\u001b[38;5;241;43m=\u001b[39;49m\u001b[38;5;124;43m'\u001b[39;49m\u001b[38;5;124;43m,\u001b[39;49m\u001b[38;5;124;43m'\u001b[39;49m\u001b[43m,\u001b[49m\u001b[43m \u001b[49m\u001b[43mfmt\u001b[49m\u001b[38;5;241;43m=\u001b[39;49m\u001b[38;5;124;43m'\u001b[39;49m\u001b[38;5;132;43;01m%d\u001b[39;49;00m\u001b[38;5;124;43m'\u001b[39;49m\u001b[43m)\u001b[49m\n",
      "File \u001b[0;32m/opt/anaconda3/envs/pstat/lib/python3.12/site-packages/numpy/lib/_npyio_impl.py:1576\u001b[0m, in \u001b[0;36msavetxt\u001b[0;34m(fname, X, fmt, delimiter, newline, header, footer, comments, encoding)\u001b[0m\n\u001b[1;32m   1573\u001b[0m     fname \u001b[38;5;241m=\u001b[39m os\u001b[38;5;241m.\u001b[39mfspath(fname)\n\u001b[1;32m   1574\u001b[0m \u001b[38;5;28;01mif\u001b[39;00m _is_string_like(fname):\n\u001b[1;32m   1575\u001b[0m     \u001b[38;5;66;03m# datasource doesn't support creating a new file ...\u001b[39;00m\n\u001b[0;32m-> 1576\u001b[0m     \u001b[38;5;28;43mopen\u001b[39;49m\u001b[43m(\u001b[49m\u001b[43mfname\u001b[49m\u001b[43m,\u001b[49m\u001b[43m \u001b[49m\u001b[38;5;124;43m'\u001b[39;49m\u001b[38;5;124;43mwt\u001b[39;49m\u001b[38;5;124;43m'\u001b[39;49m\u001b[43m)\u001b[49m\u001b[38;5;241m.\u001b[39mclose()\n\u001b[1;32m   1577\u001b[0m     fh \u001b[38;5;241m=\u001b[39m np\u001b[38;5;241m.\u001b[39mlib\u001b[38;5;241m.\u001b[39m_datasource\u001b[38;5;241m.\u001b[39mopen(fname, \u001b[38;5;124m'\u001b[39m\u001b[38;5;124mwt\u001b[39m\u001b[38;5;124m'\u001b[39m, encoding\u001b[38;5;241m=\u001b[39mencoding)\n\u001b[1;32m   1578\u001b[0m     own_fh \u001b[38;5;241m=\u001b[39m \u001b[38;5;28;01mTrue\u001b[39;00m\n",
      "\u001b[0;31mFileNotFoundError\u001b[0m: [Errno 2] No such file or directory: '../data/confusion_matrix.csv'"
     ]
    }
   ],
   "source": [
    "cm = confusion_matrix(y_test, lg_model_final.predict(X_test.loc[:, selected_features]))\n",
    "np.savetxt('../data/confusion_matrix.csv', cm, delimiter=',', fmt='%d')"
   ]
  },
  {
   "cell_type": "code",
   "execution_count": null,
   "metadata": {},
   "outputs": [
    {
     "data": {
      "image/png": "[encoded data removed]",
      "text/plain": [
       "<Figure size 800x800 with 1 Axes>"
      ]
     },
     "metadata": {},
     "output_type": "display_data"
    }
   ],
   "source": [
    "cm = np.loadtxt('../data/confusion_matrix.csv', delimiter=',')\n",
    "fig, ax = plt.subplots(figsize=[8, 8])\n",
    "ax.imshow(cm, cmap=\"Blues\")\n",
    "ax.xaxis.set(ticks=(0, 1), ticklabels=('Predicted TD', 'Predicted ASD'))\n",
    "ax.yaxis.set(ticks=(0, 1), ticklabels=('Actual TD', 'Actual ASD'))\n",
    "for i in range(2):\n",
    "  for j in range(2):\n",
    "    ax.text(j, i, cm[i, j], ha='center', va='center', color='black', fontdict={'fontsize': 20})\n",
    "ax.grid(False)\n",
    "ax.set_title('Confusion Matrix of Final Predictions')\n",
    "plt.show();\n",
    "\n"
   ]
  },
  {
   "cell_type": "code",
   "execution_count": null,
   "metadata": {},
   "outputs": [
    {
     "name": "stdout",
     "output_type": "stream",
     "text": [
      "              precision    recall  f1-score   support\n",
      "\n",
      "           0       0.93      0.81      0.87        16\n",
      "           1       0.82      0.93      0.88        15\n",
      "\n",
      "    accuracy                           0.87        31\n",
      "   macro avg       0.88      0.87      0.87        31\n",
      "weighted avg       0.88      0.87      0.87        31\n",
      "\n"
     ]
    }
   ],
   "source": [
    "from sklearn.metrics import classification_report, roc_auc_score\n",
    "print(classification_report(y_test, lg_model_final.predict(X_test.loc[:, selected_features])))"
   ]
  },
  {
   "cell_type": "code",
   "execution_count": null,
   "metadata": {},
   "outputs": [
    {
     "data": {
      "text/plain": [
       "np.float64(0.8729166666666667)"
      ]
     },
     "execution_count": 1363,
     "metadata": {},
     "output_type": "execute_result"
    }
   ],
   "source": [
    "roc_auc_score(y_test, lg_model_final.predict(X_test.loc[:, selected_features]))"
   ]
  },
  {
   "cell_type": "code",
   "execution_count": null,
   "metadata": {},
   "outputs": [],
   "source": []
  }
 ],
 "metadata": {
  "kernelspec": {
   "display_name": "pstat",
   "language": "python",
   "name": "python3"
  },
  "language_info": {
   "codemirror_mode": {
    "name": "ipython",
    "version": 3
   },
   "file_extension": ".py",
   "mimetype": "text/x-python",
   "name": "python",
   "nbconvert_exporter": "python",
   "pygments_lexer": "ipython3",
   "version": "3.12.7"
  }
 },
 "nbformat": 4,
 "nbformat_minor": 2
}
