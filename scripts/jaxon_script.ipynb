{
 "cells": [
  {
   "cell_type": "code",
   "execution_count": 199,
   "metadata": {},
   "outputs": [],
   "source": [
    "import pandas as pd\n",
    "import numpy as np"
   ]
  },
  {
   "cell_type": "code",
   "execution_count": 200,
   "metadata": {},
   "outputs": [],
   "source": [
    "# read data\n",
    "biomarker_clean = pd.read_csv('../data/biomarker_clean.csv')"
   ]
  },
  {
   "cell_type": "code",
   "execution_count": 201,
   "metadata": {},
   "outputs": [
    {
     "data": {
      "text/plain": [
       "Index(['Unnamed: 0', 'group', 'ados', 'CHIP', 'CEBPB', 'NSE', 'PIAS4',\n",
       "       'IL-10 Ra', 'STAT3', 'IRF1',\n",
       "       ...\n",
       "       'UB2G2', 'Transgelin-2', 'ATPO', 'Corticotropin-lipotropin', 'QORL1',\n",
       "       'PEDF', 'CATF', 'FTCD', 'UBP25', 'PLXB2'],\n",
       "      dtype='object', length=1320)"
      ]
     },
     "execution_count": 201,
     "metadata": {},
     "output_type": "execute_result"
    }
   ],
   "source": [
    "# see column names\n",
    "biomarker_clean.columns"
   ]
  },
  {
   "cell_type": "code",
   "execution_count": 202,
   "metadata": {},
   "outputs": [],
   "source": [
    "# drop the unnamed column and ados\n",
    "biomarker_clean = biomarker_clean.drop(['Unnamed: 0'], axis=1)"
   ]
  },
  {
   "cell_type": "markdown",
   "metadata": {},
   "source": [
    "ADOS diagnostic algo- rithms consisting of two behavioral domains: Social Affect (SA) and Restricted and Repetitive Behaviors (RRB) were used to determine an ADOS total score, which provides a continuous measure of overall ASD symptom severity."
   ]
  },
  {
   "cell_type": "code",
   "execution_count": 203,
   "metadata": {},
   "outputs": [
    {
     "data": {
      "text/plain": [
       "group\n",
       "TD    78\n",
       "Name: count, dtype: int64"
      ]
     },
     "execution_count": 203,
     "metadata": {},
     "output_type": "execute_result"
    }
   ],
   "source": [
    "biomarker_clean[biomarker_clean['ados'].isna()]['group'].value_counts()"
   ]
  },
  {
   "cell_type": "code",
   "execution_count": 204,
   "metadata": {},
   "outputs": [
    {
     "data": {
      "text/plain": [
       "group\n",
       "ASD    76\n",
       "Name: count, dtype: int64"
      ]
     },
     "execution_count": 204,
     "metadata": {},
     "output_type": "execute_result"
    }
   ],
   "source": [
    "biomarker_clean[biomarker_clean['ados'].notna()]['group'].value_counts()"
   ]
  },
  {
   "cell_type": "markdown",
   "metadata": {},
   "source": [
    "# Binomial classification"
   ]
  },
  {
   "cell_type": "code",
   "execution_count": 205,
   "metadata": {},
   "outputs": [],
   "source": [
    "biomarker_clean = biomarker_clean.drop(['ados'], axis=1)\n"
   ]
  },
  {
   "cell_type": "code",
   "execution_count": 206,
   "metadata": {},
   "outputs": [],
   "source": [
    "biomarker_clean['group'] = biomarker_clean['group'].apply(lambda x: 1 if x == 'ASD' else 0).astype(int)"
   ]
  },
  {
   "cell_type": "code",
   "execution_count": 207,
   "metadata": {},
   "outputs": [
    {
     "data": {
      "text/plain": [
       "array([[ 0.33500909,  0.52030255, -0.55429753, ...,  3.        ,\n",
       "        -0.47723488, -1.23419401],\n",
       "       [-0.07145438,  1.00627423,  3.        , ...,  0.78371039,\n",
       "         0.13825367,  0.0952122 ],\n",
       "       [-0.4060154 , -0.53103679, -0.05922125, ..., -1.14594023,\n",
       "        -0.68955127,  0.83858575],\n",
       "       ...,\n",
       "       [ 0.03237458,  1.32008149, -0.24124172, ..., -0.10017329,\n",
       "         0.49931348,  0.63298266],\n",
       "       [ 0.19662737,  1.5288767 ,  0.36405519, ..., -0.23166439,\n",
       "         0.65427786, -0.03871574],\n",
       "       [ 1.24956203,  0.47847807,  3.        , ...,  1.66966352,\n",
       "        -0.58197324,  1.52234164]])"
      ]
     },
     "execution_count": 207,
     "metadata": {},
     "output_type": "execute_result"
    }
   ],
   "source": [
    "X = biomarker_clean.loc[:, 'CHIP':].to_numpy()\n",
    "y = biomarker_clean.loc[:, 'group'].to_numpy()\n",
    "X"
   ]
  },
  {
   "cell_type": "code",
   "execution_count": 208,
   "metadata": {},
   "outputs": [],
   "source": [
    "from sklearn.utils import resample\n",
    "from sklearn.ensemble import RandomForestClassifier\n",
    "from sklearn.model_selection import train_test_split\n",
    "from sklearn.linear_model import LogisticRegression"
   ]
  },
  {
   "cell_type": "markdown",
   "metadata": {},
   "source": [
    "sklearn.utils.resample(*arrays, replace=True, n_samples=None, random_state=None, stratify=None)[source]\n",
    "Resample arrays or sparse matrices in a consistent way.\n",
    "\n",
    "The default strategy implements one step of the bootstrapping procedure."
   ]
  },
  {
   "cell_type": "code",
   "execution_count": 209,
   "metadata": {},
   "outputs": [],
   "source": [
    "X_train, X_test, y_train, y_test = train_test_split(X, y, test_size=0.2, random_state=197)"
   ]
  },
  {
   "cell_type": "markdown",
   "metadata": {},
   "source": [
    "## Random Forest"
   ]
  },
  {
   "cell_type": "code",
   "execution_count": 210,
   "metadata": {},
   "outputs": [],
   "source": [
    "rf_model = RandomForestClassifier(n_estimators=10,\n",
    "                                  criterion='gini',\n",
    "                                  max_depth=15,\n",
    "                                  min_samples_split=5,\n",
    "                                  bootstrap=True,\n",
    "                                  random_state=197)\n",
    "rf_model.fit(X_train, y_train)\n",
    "rf_feature_importance = rf_model.feature_importances_"
   ]
  },
  {
   "cell_type": "code",
   "execution_count": 211,
   "metadata": {},
   "outputs": [],
   "source": [
    "rf_top_feature_importance_idx = np.argsort(rf_feature_importance)[-20:][::-1]"
   ]
  },
  {
   "cell_type": "code",
   "execution_count": 219,
   "metadata": {},
   "outputs": [
    {
     "data": {
      "text/plain": [
       "array([1192,  988, 1144,  241, 1115,  292,  643,  201,   52,  193,  366,\n",
       "        845,  290, 1252,    6,  387,  964,  429,  926,  701])"
      ]
     },
     "execution_count": 219,
     "metadata": {},
     "output_type": "execute_result"
    }
   ],
   "source": [
    "rf_top_feature_importance_idx"
   ]
  },
  {
   "cell_type": "code",
   "execution_count": 220,
   "metadata": {},
   "outputs": [],
   "source": [
    "rf_biomarker_clean = biomarker_clean.columns[rf_top_feature_importance_idx]"
   ]
  },
  {
   "cell_type": "markdown",
   "metadata": {},
   "source": [
    "## Select top 20 proteins"
   ]
  },
  {
   "cell_type": "code",
   "execution_count": 213,
   "metadata": {},
   "outputs": [],
   "source": [
    "X_rf_top_20 = X_train[:, rf_top_feature_importance_idx]\n",
    "y_rf_top_20 = y_train\n",
    "lg_feature_importance = np.zeros(X_rf_top_20.shape[1]) # size = number of features"
   ]
  },
  {
   "cell_type": "code",
   "execution_count": 214,
   "metadata": {},
   "outputs": [],
   "source": [
    "for i in range(50):\n",
    "  X_bootstrap, y_bootstrap = resample(X_rf_top_20, y_rf_top_20, random_state=i)\n",
    "\n",
    "  lg_model = LogisticRegression(solver='liblinear', C=1, penalty='l1', random_state=i).fit(X_bootstrap, y_bootstrap)\n",
    "\n",
    "  lg_feature_importance += (lg_model.coef_ != 0).sum(axis=0) # sum over rows\n",
    "\n",
    "lg_feature_importance /= 50 # calculate the average of non-zero features\n"
   ]
  },
  {
   "cell_type": "code",
   "execution_count": 215,
   "metadata": {},
   "outputs": [],
   "source": [
    "unique_value, counts = np.unique(lg_feature_importance, return_counts=True)"
   ]
  },
  {
   "cell_type": "code",
   "execution_count": 216,
   "metadata": {},
   "outputs": [
    {
     "name": "stdout",
     "output_type": "stream",
     "text": [
      "Average Non-zero coefficient frequency of appearance in bootsrap: [0.52 0.58 0.62 0.64 0.66 0.68 0.74 0.76 0.82 0.88 0.94 0.98 1.  ]\n",
      "Counts of each average non-zero coefficient frequency: [1 1 2 1 2 3 1 3 1 1 1 1 2]\n"
     ]
    }
   ],
   "source": [
    "print(f'Average Non-zero coefficient frequency of appearance in bootsrap: {unique_value}')\n",
    "print(f'Counts of each average non-zero coefficient frequency: {counts}')"
   ]
  },
  {
   "cell_type": "code",
   "execution_count": 217,
   "metadata": {},
   "outputs": [
    {
     "name": "stdout",
     "output_type": "stream",
     "text": [
      "Top 20 Non-zero coefficient frequency INDEX of appearance in boot strap: [17  1 11  6  8  2 15 12 18]\n",
      "Top 20 Non-zero coefficient frequency VALUE of appearance in boot strap: [1.   1.   0.98 0.94 0.88 0.82 0.76 0.76 0.76]\n"
     ]
    }
   ],
   "source": [
    "feature_importance_top_9_idx = np.argsort(lg_feature_importance)[-9:][::-1] # select top 20 feature indices\n",
    "\n",
    "print(f'Top 20 Non-zero coefficient frequency INDEX of appearance in boot strap: {feature_importance_top_9_idx}')\n",
    "print(f'Top 20 Non-zero coefficient frequency VALUE of appearance in boot strap: {lg_feature_importance[feature_importance_top_9_idx]}')"
   ]
  },
  {
   "cell_type": "markdown",
   "metadata": {},
   "source": [
    "## 5 Proteins that have the most average weights by 100-bootstrap"
   ]
  },
  {
   "cell_type": "code",
   "execution_count": 226,
   "metadata": {},
   "outputs": [
    {
     "data": {
      "text/plain": [
       "Index(['CD39', 'DBNL', 'Collectin Kidney 1', 'OCAD1', 'BCL6', 'Prothrombin',\n",
       "       'Flt3 ligand', 'ERK-1', 'ITI heavy chain H4'],\n",
       "      dtype='object')"
      ]
     },
     "execution_count": 226,
     "metadata": {},
     "output_type": "execute_result"
    }
   ],
   "source": [
    "lg_biomarker_colnames = rf_biomarker_clean[feature_importance_top_9_idx]\n",
    "lg_biomarker_colnames"
   ]
  },
  {
   "cell_type": "code",
   "execution_count": 225,
   "metadata": {},
   "outputs": [
    {
     "data": {
      "text/html": [
       "<div>\n",
       "<style scoped>\n",
       "    .dataframe tbody tr th:only-of-type {\n",
       "        vertical-align: middle;\n",
       "    }\n",
       "\n",
       "    .dataframe tbody tr th {\n",
       "        vertical-align: top;\n",
       "    }\n",
       "\n",
       "    .dataframe thead th {\n",
       "        text-align: right;\n",
       "    }\n",
       "</style>\n",
       "<table border=\"1\" class=\"dataframe\">\n",
       "  <thead>\n",
       "    <tr style=\"text-align: right;\">\n",
       "      <th></th>\n",
       "      <th>CD39</th>\n",
       "      <th>DBNL</th>\n",
       "      <th>Collectin Kidney 1</th>\n",
       "      <th>OCAD1</th>\n",
       "      <th>BCL6</th>\n",
       "      <th>Prothrombin</th>\n",
       "      <th>Flt3 ligand</th>\n",
       "      <th>ERK-1</th>\n",
       "      <th>ITI heavy chain H4</th>\n",
       "    </tr>\n",
       "  </thead>\n",
       "  <tbody>\n",
       "    <tr>\n",
       "      <th>0</th>\n",
       "      <td>0.558961</td>\n",
       "      <td>0.503559</td>\n",
       "      <td>-1.043312</td>\n",
       "      <td>-0.148950</td>\n",
       "      <td>0.228153</td>\n",
       "      <td>-0.340711</td>\n",
       "      <td>0.050875</td>\n",
       "      <td>-0.195837</td>\n",
       "      <td>0.389372</td>\n",
       "    </tr>\n",
       "    <tr>\n",
       "      <th>1</th>\n",
       "      <td>0.102769</td>\n",
       "      <td>-0.296588</td>\n",
       "      <td>-0.490555</td>\n",
       "      <td>-0.625926</td>\n",
       "      <td>0.252370</td>\n",
       "      <td>-0.414998</td>\n",
       "      <td>0.019506</td>\n",
       "      <td>0.889466</td>\n",
       "      <td>-1.212895</td>\n",
       "    </tr>\n",
       "    <tr>\n",
       "      <th>2</th>\n",
       "      <td>-0.618390</td>\n",
       "      <td>1.377972</td>\n",
       "      <td>0.571774</td>\n",
       "      <td>-0.417502</td>\n",
       "      <td>-0.268227</td>\n",
       "      <td>1.247360</td>\n",
       "      <td>-0.323503</td>\n",
       "      <td>-0.180621</td>\n",
       "      <td>0.255682</td>\n",
       "    </tr>\n",
       "    <tr>\n",
       "      <th>3</th>\n",
       "      <td>-0.329925</td>\n",
       "      <td>-0.497788</td>\n",
       "      <td>0.129357</td>\n",
       "      <td>0.341663</td>\n",
       "      <td>-0.005226</td>\n",
       "      <td>-0.973634</td>\n",
       "      <td>-0.537784</td>\n",
       "      <td>2.235239</td>\n",
       "      <td>-0.058901</td>\n",
       "    </tr>\n",
       "    <tr>\n",
       "      <th>4</th>\n",
       "      <td>-0.241031</td>\n",
       "      <td>0.070020</td>\n",
       "      <td>0.140418</td>\n",
       "      <td>0.590670</td>\n",
       "      <td>-0.079062</td>\n",
       "      <td>-0.891510</td>\n",
       "      <td>-0.355734</td>\n",
       "      <td>1.388327</td>\n",
       "      <td>-0.393853</td>\n",
       "    </tr>\n",
       "    <tr>\n",
       "      <th>...</th>\n",
       "      <td>...</td>\n",
       "      <td>...</td>\n",
       "      <td>...</td>\n",
       "      <td>...</td>\n",
       "      <td>...</td>\n",
       "      <td>...</td>\n",
       "      <td>...</td>\n",
       "      <td>...</td>\n",
       "      <td>...</td>\n",
       "    </tr>\n",
       "    <tr>\n",
       "      <th>149</th>\n",
       "      <td>-0.649712</td>\n",
       "      <td>0.103900</td>\n",
       "      <td>1.292436</td>\n",
       "      <td>-0.148528</td>\n",
       "      <td>-0.046210</td>\n",
       "      <td>0.543231</td>\n",
       "      <td>1.962896</td>\n",
       "      <td>0.091265</td>\n",
       "      <td>0.161999</td>\n",
       "    </tr>\n",
       "    <tr>\n",
       "      <th>150</th>\n",
       "      <td>-0.152028</td>\n",
       "      <td>0.426534</td>\n",
       "      <td>0.079957</td>\n",
       "      <td>0.547445</td>\n",
       "      <td>0.122472</td>\n",
       "      <td>0.059372</td>\n",
       "      <td>0.133722</td>\n",
       "      <td>1.379568</td>\n",
       "      <td>-0.142699</td>\n",
       "    </tr>\n",
       "    <tr>\n",
       "      <th>151</th>\n",
       "      <td>0.794906</td>\n",
       "      <td>-0.109869</td>\n",
       "      <td>-0.117592</td>\n",
       "      <td>0.666404</td>\n",
       "      <td>1.413774</td>\n",
       "      <td>-1.742080</td>\n",
       "      <td>0.650453</td>\n",
       "      <td>-0.665855</td>\n",
       "      <td>0.356584</td>\n",
       "    </tr>\n",
       "    <tr>\n",
       "      <th>152</th>\n",
       "      <td>0.776736</td>\n",
       "      <td>-0.517024</td>\n",
       "      <td>-1.989805</td>\n",
       "      <td>1.012334</td>\n",
       "      <td>0.822150</td>\n",
       "      <td>-0.816188</td>\n",
       "      <td>0.665157</td>\n",
       "      <td>1.484037</td>\n",
       "      <td>-0.121631</td>\n",
       "    </tr>\n",
       "    <tr>\n",
       "      <th>153</th>\n",
       "      <td>-2.520341</td>\n",
       "      <td>-0.367549</td>\n",
       "      <td>3.000000</td>\n",
       "      <td>-2.590510</td>\n",
       "      <td>-3.000000</td>\n",
       "      <td>1.128174</td>\n",
       "      <td>-0.938781</td>\n",
       "      <td>0.036352</td>\n",
       "      <td>0.179905</td>\n",
       "    </tr>\n",
       "  </tbody>\n",
       "</table>\n",
       "<p>154 rows × 9 columns</p>\n",
       "</div>"
      ],
      "text/plain": [
       "         CD39      DBNL  Collectin Kidney 1     OCAD1      BCL6  Prothrombin  \\\n",
       "0    0.558961  0.503559           -1.043312 -0.148950  0.228153    -0.340711   \n",
       "1    0.102769 -0.296588           -0.490555 -0.625926  0.252370    -0.414998   \n",
       "2   -0.618390  1.377972            0.571774 -0.417502 -0.268227     1.247360   \n",
       "3   -0.329925 -0.497788            0.129357  0.341663 -0.005226    -0.973634   \n",
       "4   -0.241031  0.070020            0.140418  0.590670 -0.079062    -0.891510   \n",
       "..        ...       ...                 ...       ...       ...          ...   \n",
       "149 -0.649712  0.103900            1.292436 -0.148528 -0.046210     0.543231   \n",
       "150 -0.152028  0.426534            0.079957  0.547445  0.122472     0.059372   \n",
       "151  0.794906 -0.109869           -0.117592  0.666404  1.413774    -1.742080   \n",
       "152  0.776736 -0.517024           -1.989805  1.012334  0.822150    -0.816188   \n",
       "153 -2.520341 -0.367549            3.000000 -2.590510 -3.000000     1.128174   \n",
       "\n",
       "     Flt3 ligand     ERK-1  ITI heavy chain H4  \n",
       "0       0.050875 -0.195837            0.389372  \n",
       "1       0.019506  0.889466           -1.212895  \n",
       "2      -0.323503 -0.180621            0.255682  \n",
       "3      -0.537784  2.235239           -0.058901  \n",
       "4      -0.355734  1.388327           -0.393853  \n",
       "..           ...       ...                 ...  \n",
       "149     1.962896  0.091265            0.161999  \n",
       "150     0.133722  1.379568           -0.142699  \n",
       "151     0.650453 -0.665855            0.356584  \n",
       "152     0.665157  1.484037           -0.121631  \n",
       "153    -0.938781  0.036352            0.179905  \n",
       "\n",
       "[154 rows x 9 columns]"
      ]
     },
     "execution_count": 225,
     "metadata": {},
     "output_type": "execute_result"
    }
   ],
   "source": [
    "X_final_training = biomarker_clean.loc[:, lg_biomarker_colnames]\n",
    "X_final_training"
   ]
  },
  {
   "cell_type": "code",
   "execution_count": null,
   "metadata": {},
   "outputs": [],
   "source": []
  }
 ],
 "metadata": {
  "kernelspec": {
   "display_name": "pstat",
   "language": "python",
   "name": "python3"
  },
  "language_info": {
   "codemirror_mode": {
    "name": "ipython",
    "version": 3
   },
   "file_extension": ".py",
   "mimetype": "text/x-python",
   "name": "python",
   "nbconvert_exporter": "python",
   "pygments_lexer": "ipython3",
   "version": "3.12.7"
  }
 },
 "nbformat": 4,
 "nbformat_minor": 2
}
