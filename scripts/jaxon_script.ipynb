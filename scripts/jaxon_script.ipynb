{
 "cells": [
  {
   "cell_type": "code",
   "execution_count": 240,
   "metadata": {},
   "outputs": [],
   "source": [
    "import pandas as pd\n",
    "import numpy as np"
   ]
  },
  {
   "cell_type": "code",
   "execution_count": 241,
   "metadata": {},
   "outputs": [],
   "source": [
    "# read data\n",
    "biomarker_clean = pd.read_csv('../data/biomarker_clean.csv')"
   ]
  },
  {
   "cell_type": "code",
   "execution_count": 242,
   "metadata": {},
   "outputs": [
    {
     "data": {
      "text/plain": [
       "Index(['Unnamed: 0', 'group', 'ados', 'CHIP', 'CEBPB', 'NSE', 'PIAS4',\n",
       "       'IL-10 Ra', 'STAT3', 'IRF1',\n",
       "       ...\n",
       "       'UB2G2', 'Transgelin-2', 'ATPO', 'Corticotropin-lipotropin', 'QORL1',\n",
       "       'PEDF', 'CATF', 'FTCD', 'UBP25', 'PLXB2'],\n",
       "      dtype='object', length=1320)"
      ]
     },
     "execution_count": 242,
     "metadata": {},
     "output_type": "execute_result"
    }
   ],
   "source": [
    "# see column names\n",
    "biomarker_clean.columns"
   ]
  },
  {
   "cell_type": "code",
   "execution_count": 243,
   "metadata": {},
   "outputs": [],
   "source": [
    "# drop the unnamed column and ados\n",
    "biomarker_clean = biomarker_clean.drop(['Unnamed: 0'], axis=1)"
   ]
  },
  {
   "cell_type": "markdown",
   "metadata": {},
   "source": [
    "ADOS diagnostic algo- rithms consisting of two behavioral domains: Social Affect (SA) and Restricted and Repetitive Behaviors (RRB) were used to determine an ADOS total score, which provides a continuous measure of overall ASD symptom severity."
   ]
  },
  {
   "cell_type": "code",
   "execution_count": 244,
   "metadata": {},
   "outputs": [
    {
     "data": {
      "text/plain": [
       "group\n",
       "TD    78\n",
       "Name: count, dtype: int64"
      ]
     },
     "execution_count": 244,
     "metadata": {},
     "output_type": "execute_result"
    }
   ],
   "source": [
    "biomarker_clean[biomarker_clean['ados'].isna()]['group'].value_counts()"
   ]
  },
  {
   "cell_type": "code",
   "execution_count": 245,
   "metadata": {},
   "outputs": [
    {
     "data": {
      "text/plain": [
       "group\n",
       "ASD    76\n",
       "Name: count, dtype: int64"
      ]
     },
     "execution_count": 245,
     "metadata": {},
     "output_type": "execute_result"
    }
   ],
   "source": [
    "biomarker_clean[biomarker_clean['ados'].notna()]['group'].value_counts()"
   ]
  },
  {
   "cell_type": "markdown",
   "metadata": {},
   "source": [
    "# Binomial classification"
   ]
  },
  {
   "cell_type": "code",
   "execution_count": 246,
   "metadata": {},
   "outputs": [],
   "source": [
    "biomarker_clean = biomarker_clean.drop(['ados'], axis=1)\n"
   ]
  },
  {
   "cell_type": "code",
   "execution_count": 247,
   "metadata": {},
   "outputs": [],
   "source": [
    "biomarker_clean['group'] = biomarker_clean['group'].apply(lambda x: 1 if x == 'ASD' else 0).astype(int)"
   ]
  },
  {
   "cell_type": "code",
   "execution_count": 248,
   "metadata": {},
   "outputs": [
    {
     "data": {
      "text/plain": [
       "array([[ 0.33500909,  0.52030255, -0.55429753, ...,  3.        ,\n",
       "        -0.47723488, -1.23419401],\n",
       "       [-0.07145438,  1.00627423,  3.        , ...,  0.78371039,\n",
       "         0.13825367,  0.0952122 ],\n",
       "       [-0.4060154 , -0.53103679, -0.05922125, ..., -1.14594023,\n",
       "        -0.68955127,  0.83858575],\n",
       "       ...,\n",
       "       [ 0.03237458,  1.32008149, -0.24124172, ..., -0.10017329,\n",
       "         0.49931348,  0.63298266],\n",
       "       [ 0.19662737,  1.5288767 ,  0.36405519, ..., -0.23166439,\n",
       "         0.65427786, -0.03871574],\n",
       "       [ 1.24956203,  0.47847807,  3.        , ...,  1.66966352,\n",
       "        -0.58197324,  1.52234164]])"
      ]
     },
     "execution_count": 248,
     "metadata": {},
     "output_type": "execute_result"
    }
   ],
   "source": [
    "X = biomarker_clean.loc[:, 'CHIP':].to_numpy()\n",
    "y = biomarker_clean.loc[:, 'group'].to_numpy()\n",
    "X"
   ]
  },
  {
   "cell_type": "code",
   "execution_count": 249,
   "metadata": {},
   "outputs": [],
   "source": [
    "from sklearn.utils import resample\n",
    "from sklearn.ensemble import RandomForestClassifier\n",
    "from sklearn.model_selection import train_test_split\n",
    "from sklearn.linear_model import LogisticRegression"
   ]
  },
  {
   "cell_type": "markdown",
   "metadata": {},
   "source": [
    "sklearn.utils.resample(*arrays, replace=True, n_samples=None, random_state=None, stratify=None)[source]\n",
    "Resample arrays or sparse matrices in a consistent way.\n",
    "\n",
    "The default strategy implements one step of the bootstrapping procedure."
   ]
  },
  {
   "cell_type": "code",
   "execution_count": 250,
   "metadata": {},
   "outputs": [],
   "source": [
    "X_train, X_test, y_train, y_test = train_test_split(X, y, test_size=0.2, random_state=197)"
   ]
  },
  {
   "cell_type": "markdown",
   "metadata": {},
   "source": [
    "## Random Forest"
   ]
  },
  {
   "cell_type": "code",
   "execution_count": 251,
   "metadata": {},
   "outputs": [],
   "source": [
    "rf_model = RandomForestClassifier(n_estimators=100,\n",
    "                                  criterion='gini',\n",
    "                                  max_depth=15,\n",
    "                                  min_samples_split=5,\n",
    "                                  bootstrap=True,\n",
    "                                  random_state=197)\n",
    "rf_model.fit(X_train, y_train)\n",
    "rf_feature_importance = rf_model.feature_importances_"
   ]
  },
  {
   "cell_type": "code",
   "execution_count": 252,
   "metadata": {},
   "outputs": [],
   "source": [
    "rf_top_feature_importance_idx = np.argsort(rf_feature_importance)[-20:][::-1]"
   ]
  },
  {
   "cell_type": "code",
   "execution_count": 253,
   "metadata": {},
   "outputs": [
    {
     "data": {
      "text/plain": [
       "array([ 361,  498, 1162,  988,   52,  494,  775,  961, 1280,  490, 1273,\n",
       "        660,  453,  625,  244,  908,  201,  917,  948,  914])"
      ]
     },
     "execution_count": 253,
     "metadata": {},
     "output_type": "execute_result"
    }
   ],
   "source": [
    "rf_top_feature_importance_idx"
   ]
  },
  {
   "cell_type": "code",
   "execution_count": 254,
   "metadata": {},
   "outputs": [],
   "source": [
    "rf_biomarker_clean = biomarker_clean.columns[rf_top_feature_importance_idx]"
   ]
  },
  {
   "cell_type": "markdown",
   "metadata": {},
   "source": [
    "## Select top 20 proteins"
   ]
  },
  {
   "cell_type": "code",
   "execution_count": 255,
   "metadata": {},
   "outputs": [],
   "source": [
    "X_rf_top_20 = X_train[:, rf_top_feature_importance_idx]\n",
    "y_rf_top_20 = y_train\n",
    "lg_feature_importance = np.zeros(X_rf_top_20.shape[1]) # size = number of features"
   ]
  },
  {
   "cell_type": "code",
   "execution_count": 256,
   "metadata": {},
   "outputs": [],
   "source": [
    "for i in range(50):\n",
    "  X_bootstrap, y_bootstrap = resample(X_rf_top_20, y_rf_top_20, random_state=i)\n",
    "\n",
    "  lg_model = LogisticRegression(solver='liblinear', C=1, penalty='l1', random_state=i).fit(X_bootstrap, y_bootstrap)\n",
    "\n",
    "  lg_feature_importance += (lg_model.coef_ != 0).sum(axis=0) # sum over rows\n",
    "\n",
    "lg_feature_importance /= 50 # calculate the average of non-zero features\n"
   ]
  },
  {
   "cell_type": "code",
   "execution_count": 257,
   "metadata": {},
   "outputs": [],
   "source": [
    "unique_value, counts = np.unique(lg_feature_importance, return_counts=True)"
   ]
  },
  {
   "cell_type": "code",
   "execution_count": 258,
   "metadata": {},
   "outputs": [
    {
     "name": "stdout",
     "output_type": "stream",
     "text": [
      "Average Non-zero coefficient frequency of appearance in bootsrap: [0.42 0.54 0.56 0.58 0.62 0.64 0.68 0.74 0.76 0.84 0.9  0.94 0.98 1.  ]\n",
      "Counts of each average non-zero coefficient frequency: [1 1 1 1 1 2 2 1 1 1 4 2 1 1]\n"
     ]
    }
   ],
   "source": [
    "print(f'Average Non-zero coefficient frequency of appearance in bootsrap: {unique_value}')\n",
    "print(f'Counts of each average non-zero coefficient frequency: {counts}')"
   ]
  },
  {
   "cell_type": "code",
   "execution_count": 259,
   "metadata": {},
   "outputs": [
    {
     "name": "stdout",
     "output_type": "stream",
     "text": [
      "Top 20 Non-zero coefficient frequency INDEX of appearance in boot strap: [ 7  5  0 18  6 15 14  3 16]\n",
      "Top 20 Non-zero coefficient frequency VALUE of appearance in boot strap: [1.   0.98 0.94 0.94 0.9  0.9  0.9  0.9  0.84]\n"
     ]
    }
   ],
   "source": [
    "feature_importance_top_9_idx = np.argsort(lg_feature_importance)[-9:][::-1] # select top 20 feature indices\n",
    "\n",
    "print(f'Top 20 Non-zero coefficient frequency INDEX of appearance in boot strap: {feature_importance_top_9_idx}')\n",
    "print(f'Top 20 Non-zero coefficient frequency VALUE of appearance in boot strap: {lg_feature_importance[feature_importance_top_9_idx]}')"
   ]
  },
  {
   "cell_type": "markdown",
   "metadata": {},
   "source": [
    "## 5 Proteins that have the most average weights by 100-bootstrap"
   ]
  },
  {
   "cell_type": "code",
   "execution_count": 260,
   "metadata": {},
   "outputs": [
    {
     "data": {
      "text/plain": [
       "Index(['Hemoglobin', 'PGRP-S', 'Siglec-9', 'C3a', 'Factor H', 'TNF-b',\n",
       "       'HIV-2 Rev', 'DBNL', 'IGFBP-6'],\n",
       "      dtype='object')"
      ]
     },
     "execution_count": 260,
     "metadata": {},
     "output_type": "execute_result"
    }
   ],
   "source": [
    "lg_biomarker_colnames = rf_biomarker_clean[feature_importance_top_9_idx]\n",
    "lg_biomarker_colnames"
   ]
  },
  {
   "cell_type": "code",
   "execution_count": 261,
   "metadata": {},
   "outputs": [
    {
     "data": {
      "text/plain": [
       "(123, 9)"
      ]
     },
     "execution_count": 261,
     "metadata": {},
     "output_type": "execute_result"
    }
   ],
   "source": [
    "X_final_training = X_train[:, feature_importance_top_9_idx]\n",
    "X_final_training.shape"
   ]
  },
  {
   "cell_type": "code",
   "execution_count": null,
   "metadata": {},
   "outputs": [],
   "source": []
  },
  {
   "cell_type": "code",
   "execution_count": 262,
   "metadata": {},
   "outputs": [
    {
     "data": {
      "image/png": "[encoded data removed]",
      "text/plain": [
       "<Figure size 800x800 with 1 Axes>"
      ]
     },
     "metadata": {},
     "output_type": "display_data"
    },
    {
     "data": {
      "text/plain": [
       "array([[14,  1],\n",
       "       [ 8,  8]])"
      ]
     },
     "execution_count": 262,
     "metadata": {},
     "output_type": "execute_result"
    }
   ],
   "source": [
    "from sklearn.metrics import confusion_matrix\n",
    "from matplotlib import pyplot as plt\n",
    "lg_model_final = LogisticRegression(solver='saga', penalty='elasticnet',\n",
    "                                    C=1.0, l1_ratio=0.5, random_state=197).fit(X_final_training, y_train)\n",
    "\n",
    "cm = confusion_matrix(y_test, lg_model_final.predict(X_test[:, feature_importance_top_9_idx]))\n",
    "fig, ax = plt.subplots(figsize=[8, 8])\n",
    "ax.imshow(cm)\n",
    "ax.grid(False)\n",
    "plt.show();\n",
    "\n",
    "cm"
   ]
  },
  {
   "cell_type": "code",
   "execution_count": 263,
   "metadata": {},
   "outputs": [
    {
     "name": "stdout",
     "output_type": "stream",
     "text": [
      "              precision    recall  f1-score   support\n",
      "\n",
      "           0       0.64      0.93      0.76        15\n",
      "           1       0.89      0.50      0.64        16\n",
      "\n",
      "    accuracy                           0.71        31\n",
      "   macro avg       0.76      0.72      0.70        31\n",
      "weighted avg       0.77      0.71      0.70        31\n",
      "\n"
     ]
    }
   ],
   "source": [
    "from sklearn.metrics import classification_report\n",
    "print(classification_report(y_test, lg_model_final.predict(X_test[:, feature_importance_top_9_idx])))"
   ]
  },
  {
   "cell_type": "code",
   "execution_count": null,
   "metadata": {},
   "outputs": [],
   "source": []
  }
 ],
 "metadata": {
  "kernelspec": {
   "display_name": "pstat",
   "language": "python",
   "name": "python3"
  },
  "language_info": {
   "codemirror_mode": {
    "name": "ipython",
    "version": 3
   },
   "file_extension": ".py",
   "mimetype": "text/x-python",
   "name": "python",
   "nbconvert_exporter": "python",
   "pygments_lexer": "ipython3",
   "version": "3.12.7"
  }
 },
 "nbformat": 4,
 "nbformat_minor": 2
}
