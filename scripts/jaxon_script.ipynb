{
 "cells": [
  {
   "cell_type": "code",
   "execution_count": 1052,
   "metadata": {},
   "outputs": [],
   "source": [
    "import pandas as pd\n",
    "import numpy as np"
   ]
  },
  {
   "cell_type": "code",
   "execution_count": 1053,
   "metadata": {},
   "outputs": [],
   "source": [
    "# read data\n",
    "biomarker_clean = pd.read_csv('../data/biomarker_clean.csv')"
   ]
  },
  {
   "cell_type": "code",
   "execution_count": 1054,
   "metadata": {},
   "outputs": [
    {
     "data": {
      "text/plain": [
       "Index(['Unnamed: 0', 'group', 'ados', 'CHIP', 'CEBPB', 'NSE', 'PIAS4',\n",
       "       'IL-10 Ra', 'STAT3', 'IRF1',\n",
       "       ...\n",
       "       'UB2G2', 'Transgelin-2', 'ATPO', 'Corticotropin-lipotropin', 'QORL1',\n",
       "       'PEDF', 'CATF', 'FTCD', 'UBP25', 'PLXB2'],\n",
       "      dtype='object', length=1320)"
      ]
     },
     "execution_count": 1054,
     "metadata": {},
     "output_type": "execute_result"
    }
   ],
   "source": [
    "# see column names\n",
    "biomarker_clean.columns"
   ]
  },
  {
   "cell_type": "code",
   "execution_count": 1055,
   "metadata": {},
   "outputs": [],
   "source": [
    "# drop the unnamed column and ados\n",
    "biomarker_clean = biomarker_clean.drop(['Unnamed: 0'], axis=1)"
   ]
  },
  {
   "cell_type": "markdown",
   "metadata": {},
   "source": [
    "ADOS diagnostic algo- rithms consisting of two behavioral domains: Social Affect (SA) and Restricted and Repetitive Behaviors (RRB) were used to determine an ADOS total score, which provides a continuous measure of overall ASD symptom severity."
   ]
  },
  {
   "cell_type": "code",
   "execution_count": 1056,
   "metadata": {},
   "outputs": [
    {
     "data": {
      "text/plain": [
       "group\n",
       "TD    78\n",
       "Name: count, dtype: int64"
      ]
     },
     "execution_count": 1056,
     "metadata": {},
     "output_type": "execute_result"
    }
   ],
   "source": [
    "biomarker_clean[biomarker_clean['ados'].isna()]['group'].value_counts()"
   ]
  },
  {
   "cell_type": "code",
   "execution_count": 1057,
   "metadata": {},
   "outputs": [
    {
     "data": {
      "text/plain": [
       "group\n",
       "ASD    76\n",
       "Name: count, dtype: int64"
      ]
     },
     "execution_count": 1057,
     "metadata": {},
     "output_type": "execute_result"
    }
   ],
   "source": [
    "biomarker_clean[biomarker_clean['ados'].notna()]['group'].value_counts()"
   ]
  },
  {
   "cell_type": "markdown",
   "metadata": {},
   "source": [
    "# Binomial classification"
   ]
  },
  {
   "cell_type": "code",
   "execution_count": 1058,
   "metadata": {},
   "outputs": [],
   "source": [
    "biomarker_clean = biomarker_clean.drop(['ados'], axis=1)\n"
   ]
  },
  {
   "cell_type": "code",
   "execution_count": 1059,
   "metadata": {},
   "outputs": [],
   "source": [
    "biomarker_clean['group'] = biomarker_clean['group'].apply(lambda x: 1 if x == 'ASD' else 0).astype(int)"
   ]
  },
  {
   "cell_type": "code",
   "execution_count": 1060,
   "metadata": {},
   "outputs": [],
   "source": [
    "X = biomarker_clean.loc[:, 'CHIP':]\n",
    "y = biomarker_clean.loc[:, 'group']"
   ]
  },
  {
   "cell_type": "code",
   "execution_count": 1061,
   "metadata": {},
   "outputs": [],
   "source": [
    "from sklearn.ensemble import RandomForestClassifier\n",
    "from sklearn.model_selection import train_test_split\n",
    "from sklearn.linear_model import LogisticRegression"
   ]
  },
  {
   "cell_type": "markdown",
   "metadata": {},
   "source": [
    "sklearn.utils.resample(*arrays, replace=True, n_samples=None, random_state=None, stratify=None)[source]\n",
    "Resample arrays or sparse matrices in a consistent way.\n",
    "\n",
    "The default strategy implements one step of the bootstrapping procedure."
   ]
  },
  {
   "cell_type": "markdown",
   "metadata": {},
   "source": [
    "## Random Forest"
   ]
  },
  {
   "cell_type": "code",
   "execution_count": 1062,
   "metadata": {},
   "outputs": [],
   "source": [
    "# rf_model = RandomForestClassifier(n_estimators=100,\n",
    "#                                   criterion='gini',\n",
    "#                                   max_depth=15,\n",
    "#                                   min_samples_split=5,\n",
    "#                                   bootstrap=True,\n",
    "#                                   random_state=197)\n",
    "# rf_model.fit(X_train, y_train)\n",
    "# rf_feature_importance = rf_model.feature_importances_"
   ]
  },
  {
   "cell_type": "code",
   "execution_count": 1063,
   "metadata": {},
   "outputs": [],
   "source": [
    "# rf_top_feature_importance_idx = np.argsort(rf_feature_importance)[-20:][::-1]\n",
    "# rf_biomarker_clean = biomarker_clean.columns[rf_top_feature_importance_idx]\n",
    "# rf_biomarker_clean"
   ]
  },
  {
   "cell_type": "markdown",
   "metadata": {},
   "source": [
    "## Select top 20 proteins"
   ]
  },
  {
   "cell_type": "code",
   "execution_count": 1064,
   "metadata": {},
   "outputs": [],
   "source": [
    "# X_rf_top_20 = X_train.loc[:, rf_biomarker_clean]\n",
    "# y_rf_top_20 = y_train\n",
    "# lg_feature_importance = np.zeros(X_rf_top_20.shape[1]) # size = number of features"
   ]
  },
  {
   "cell_type": "code",
   "execution_count": 1065,
   "metadata": {},
   "outputs": [],
   "source": [
    "# for i in range(50):\n",
    "#   X_bootstrap, y_bootstrap = resample(X_rf_top_20, y_rf_top_20, random_state=i)\n",
    "\n",
    "#   lg_model = LogisticRegression(solver='liblinear', C=1, penalty='l1', random_state=i).fit(X_bootstrap, y_bootstrap)\n",
    "\n",
    "#   lg_feature_importance += (lg_model.coef_ != 0).sum(axis=0) # sum over rows\n",
    "\n",
    "# lg_feature_importance /= 50 # calculate the average of non-zero features\n"
   ]
  },
  {
   "cell_type": "code",
   "execution_count": 1066,
   "metadata": {},
   "outputs": [],
   "source": [
    "# unique_value, counts = np.unique(lg_feature_importance, return_counts=True)"
   ]
  },
  {
   "cell_type": "code",
   "execution_count": 1067,
   "metadata": {},
   "outputs": [],
   "source": [
    "# print(f'Average Non-zero coefficient frequency of appearance in bootsrap: {unique_value}')\n",
    "# print(f'Counts of each average non-zero coefficient frequency: {counts}')"
   ]
  },
  {
   "cell_type": "code",
   "execution_count": 1068,
   "metadata": {},
   "outputs": [],
   "source": [
    "# feature_importance_top_9_idx = np.argsort(lg_feature_importance)[-9:][::-1] # select top 20 feature indices\n",
    "\n",
    "# print(f'Top 20 Non-zero coefficient frequency INDEX of appearance in boot strap: {feature_importance_top_9_idx}')\n",
    "# print(f'Top 20 Non-zero coefficient frequency VALUE of appearance in boot strap: {lg_feature_importance[feature_importance_top_9_idx]}')"
   ]
  },
  {
   "cell_type": "markdown",
   "metadata": {},
   "source": [
    "## 5 Proteins that have the most average weights by 100-bootstrap"
   ]
  },
  {
   "cell_type": "code",
   "execution_count": 1069,
   "metadata": {},
   "outputs": [],
   "source": [
    "# lg_biomarker_colnames = rf_biomarker_clean[feature_importance_top_9_idx]\n",
    "# lg_biomarker_colnames"
   ]
  },
  {
   "cell_type": "code",
   "execution_count": 1070,
   "metadata": {},
   "outputs": [],
   "source": [
    "# X_final_training = X_train.loc[:, lg_biomarker_colnames]\n",
    "# X_final_training.shape"
   ]
  },
  {
   "cell_type": "code",
   "execution_count": 1350,
   "metadata": {},
   "outputs": [],
   "source": [
    "X_train, X_test, y_train, y_test = train_test_split(X, y, test_size=0.2, stratify=y, random_state=198)"
   ]
  },
  {
   "cell_type": "code",
   "execution_count": 1351,
   "metadata": {},
   "outputs": [],
   "source": [
    "corr_matrix = X_train.corr()\n",
    "\n",
    "high_corr_pairs = [\n",
    "    (col1, col2) for col1 in corr_matrix.columns for col2 in corr_matrix.columns if col1 != col2 and abs(corr_matrix.loc[col1, col2] > 0.9)\n",
    "]"
   ]
  },
  {
   "cell_type": "code",
   "execution_count": 1352,
   "metadata": {},
   "outputs": [],
   "source": [
    "to_drop = set()\n",
    "\n",
    "for col1, col2 in high_corr_pairs:\n",
    "  if col1 not in to_drop and col2 not in to_drop:\n",
    "    to_drop.add(col2)"
   ]
  },
  {
   "cell_type": "code",
   "execution_count": 1353,
   "metadata": {},
   "outputs": [],
   "source": [
    "X_train = X_train.drop(columns=to_drop)\n",
    "X_test = X_test.drop(columns=to_drop)"
   ]
  },
  {
   "cell_type": "code",
   "execution_count": 1354,
   "metadata": {},
   "outputs": [
    {
     "name": "stdout",
     "output_type": "stream",
     "text": [
      "Selected Features: Index(['FSTL1', 'HCE004152', 'MIA', 'IGFBP-1', 'Met', 'PIK3CA/PIK3R1',\n",
      "       'b2-Microglobulin', 'HGFA', 'IL-6 sRa', 'PCSK7',\n",
      "       'Coagulation Factor IX', 'IgD', 'DERM', 'ILT-4', 'RELT',\n",
      "       'Semaphorin 3E', 'IL-17 RC', 'SRCN1', 'Epo', 'MIG'],\n",
      "      dtype='object')\n"
     ]
    }
   ],
   "source": [
    "from sklearn.feature_selection import RFE\n",
    "from mlxtend.feature_selection import SequentialFeatureSelector as SFS\n",
    "\n",
    "base_feature = lg_biomarker_colnames.to_list()\n",
    "candidates_feature = rf_biomarker_clean.to_list()\n",
    "\n",
    "# Initialize the model\n",
    "log_reg_forward_model = LogisticRegression(solver='liblinear', random_state=197)\n",
    "\n",
    "# Recursive Feature Elimination\n",
    "rfe = RFE(estimator=log_reg_forward_model, n_features_to_select=20)\n",
    "rfe.fit(X_train, y_train)\n",
    "\n",
    "# Selected features\n",
    "selected_features = X_train.columns[rfe.support_]\n",
    "print(\"Selected Features:\", selected_features)\n"
   ]
  },
  {
   "cell_type": "markdown",
   "metadata": {},
   "source": [
    "# Random Forest"
   ]
  },
  {
   "cell_type": "code",
   "execution_count": 1355,
   "metadata": {},
   "outputs": [
    {
     "name": "stdout",
     "output_type": "stream",
     "text": [
      "{np.float64(0.7948717948717949)}\n",
      "{np.float64(0.75)}\n",
      "{np.float64(0.717948717948718)}\n",
      "{np.float64(0.8194444444444444)}\n",
      "{np.float64(0.673611111111111)}\n"
     ]
    }
   ],
   "source": [
    "from sklearn.model_selection import StratifiedKFold, cross_val_score\n",
    "from sklearn.metrics import roc_auc_score\n",
    "\n",
    "\n",
    "rf_model = RandomForestClassifier(n_estimators=100,\n",
    "                                  criterion='gini',\n",
    "                                  max_depth=15,\n",
    "                                  min_samples_split=5,\n",
    "                                  bootstrap=True,\n",
    "                                  random_state=197)\n",
    "\n",
    "kf = StratifiedKFold(n_splits=5, shuffle=True, random_state=197)\n",
    "\n",
    "feature_importance_rf = np.zeros(X_train.shape[1])\n",
    "\n",
    "for train_idx, test_idx in kf.split(X_train, y_train):\n",
    "  X_kf_train, X_kf_test = X_train.iloc[train_idx], X_train.iloc[test_idx]\n",
    "  y_kf_train, y_kf_test = y_train.iloc[train_idx], y_train.iloc[test_idx]\n",
    "\n",
    "  rf_model.fit(X_kf_train, y_kf_train)\n",
    "\n",
    "  feature_importance_rf += rf_model.feature_importances_\n",
    "\n",
    "  y_pred_prob = rf_model.predict_proba(X_kf_test)[:, 1]\n",
    "  auc = roc_auc_score(y_kf_test, y_pred_prob)\n",
    "  print({auc})"
   ]
  },
  {
   "cell_type": "code",
   "execution_count": 1356,
   "metadata": {},
   "outputs": [],
   "source": [
    "feature_importance_rf /= kf.get_n_splits()\n",
    "\n",
    "feature_importance_df = pd.DataFrame({\n",
    "  'Features': X_train.columns,\n",
    "  'Importance': feature_importance_rf\n",
    "})\n",
    "\n",
    "top_20_features_rf = feature_importance_df.sort_values(by='Importance', ascending=False).head(20)"
   ]
  },
  {
   "cell_type": "code",
   "execution_count": 1357,
   "metadata": {},
   "outputs": [
    {
     "data": {
      "text/plain": [
       "Index(['Features', 'Importance'], dtype='object')"
      ]
     },
     "execution_count": 1357,
     "metadata": {},
     "output_type": "execute_result"
    }
   ],
   "source": [
    "top_20_features_rf.columns"
   ]
  },
  {
   "cell_type": "code",
   "execution_count": 1358,
   "metadata": {},
   "outputs": [
    {
     "name": "stdout",
     "output_type": "stream",
     "text": [
      "Overlapping features: ['IgD', 'MIA', 'DERM', 'Cadherin-5', 'DKK3', 'RELT', 'M2-PK', 'CXCL16, soluble', 'Aflatoxin B1 aldehyde reductase', 'Calcineurin', 'ILT-4', 'SRCN1', 'Coagulation Factor IX', 'PCSK7', 'CK-MB', 'Gelsolin', 'FSTL1', 'CDON', 'Met', 'Semaphorin 3E', 'Epo', 'IL-17 RC', 'IGFBP-1', 'IL-6 sRa', 'PIK3CA/PIK3R1', 'TNF sR-II', 'MIG', 'MMP-2', 'PTN', 'b2-Microglobulin', 'Notch 1', 'aldolase A', 'HCE004152', 'HGFA']\n"
     ]
    }
   ],
   "source": [
    "# Find the overlapping features\n",
    "overlapping_features = set(selected_features).union(top_20_features_rf.loc[:, 'Features'])\n",
    "\n",
    "# Convert the result to a list if needed\n",
    "overlapping_features = list(overlapping_features)\n",
    "\n",
    "print(\"Overlapping features:\", overlapping_features)"
   ]
  },
  {
   "cell_type": "markdown",
   "metadata": {},
   "source": [
    "## Final Backwards Selection"
   ]
  },
  {
   "cell_type": "code",
   "execution_count": 1359,
   "metadata": {},
   "outputs": [
    {
     "name": "stdout",
     "output_type": "stream",
     "text": [
      "Selected Features: Index(['IgD', 'SRCN1', 'Coagulation Factor IX', 'FSTL1', 'IL-17 RC',\n",
      "       'IL-6 sRa'],\n",
      "      dtype='object')\n"
     ]
    }
   ],
   "source": [
    "from sklearn.metrics import confusion_matrix\n",
    "from matplotlib import pyplot as plt\n",
    "\n",
    "X_final_training = X_train.loc[:, overlapping_features]\n",
    "\n",
    "# Initialize the model\n",
    "lg_model_final = LogisticRegression(solver='saga', penalty='elasticnet',\n",
    "                                    C=1.0, l1_ratio=0.5, random_state=197, max_iter=500).fit(X_final_training, y_train)\n",
    "\n",
    "# Recursive Feature Elimination\n",
    "rfe = RFE(estimator=lg_model_final, n_features_to_select=6)\n",
    "rfe.fit(X_final_training, y_train)\n",
    "\n",
    "# Selected features\n",
    "selected_features = X_final_training.columns[rfe.support_]\n",
    "print(\"Selected Features:\", selected_features)\n"
   ]
  },
  {
   "cell_type": "code",
   "execution_count": 1360,
   "metadata": {},
   "outputs": [],
   "source": [
    "# Initialize the model\n",
    "lg_model_final = LogisticRegression(solver='liblinear', random_state=197, max_iter=500).fit(X_train.loc[:, selected_features], y_train)\n"
   ]
  },
  {
   "cell_type": "code",
   "execution_count": 1373,
   "metadata": {},
   "outputs": [],
   "source": [
    "cm = confusion_matrix(y_test, lg_model_final.predict(X_test.loc[:, selected_features]))\n",
    "np.savetxt('../data/confusion_matrix.csv', cm, delimiter=',', fmt='%d')"
   ]
  },
  {
   "cell_type": "code",
   "execution_count": 1374,
   "metadata": {},
   "outputs": [
    {
     "data": {
      "image/png": "[encoded data removed]",
      "text/plain": [
       "<Figure size 800x800 with 1 Axes>"
      ]
     },
     "metadata": {},
     "output_type": "display_data"
    }
   ],
   "source": [
    "cm = np.loadtxt('../data/confusion_matrix.csv', delimiter=',')\n",
    "fig, ax = plt.subplots(figsize=[8, 8])\n",
    "ax.imshow(cm, cmap=\"Blues\")\n",
    "ax.xaxis.set(ticks=(0, 1), ticklabels=('Predicted TD', 'Predicted ASD'))\n",
    "ax.yaxis.set(ticks=(0, 1), ticklabels=('Actual TD', 'Actual ASD'))\n",
    "for i in range(2):\n",
    "  for j in range(2):\n",
    "    ax.text(j, i, cm[i, j], ha='center', va='center', color='black', fontdict={'fontsize': 20})\n",
    "ax.grid(False)\n",
    "ax.set_title('Confusion Matrix of Final Predictions')\n",
    "plt.show();\n",
    "\n"
   ]
  },
  {
   "cell_type": "code",
   "execution_count": 1362,
   "metadata": {},
   "outputs": [
    {
     "name": "stdout",
     "output_type": "stream",
     "text": [
      "              precision    recall  f1-score   support\n",
      "\n",
      "           0       0.93      0.81      0.87        16\n",
      "           1       0.82      0.93      0.88        15\n",
      "\n",
      "    accuracy                           0.87        31\n",
      "   macro avg       0.88      0.87      0.87        31\n",
      "weighted avg       0.88      0.87      0.87        31\n",
      "\n"
     ]
    }
   ],
   "source": [
    "from sklearn.metrics import classification_report, roc_auc_score\n",
    "print(classification_report(y_test, lg_model_final.predict(X_test.loc[:, selected_features])))"
   ]
  },
  {
   "cell_type": "code",
   "execution_count": 1363,
   "metadata": {},
   "outputs": [
    {
     "data": {
      "text/plain": [
       "np.float64(0.8729166666666667)"
      ]
     },
     "execution_count": 1363,
     "metadata": {},
     "output_type": "execute_result"
    }
   ],
   "source": [
    "roc_auc_score(y_test, lg_model_final.predict(X_test.loc[:, selected_features]))"
   ]
  },
  {
   "cell_type": "code",
   "execution_count": null,
   "metadata": {},
   "outputs": [],
   "source": []
  }
 ],
 "metadata": {
  "kernelspec": {
   "display_name": "pstat",
   "language": "python",
   "name": "python3"
  },
  "language_info": {
   "codemirror_mode": {
    "name": "ipython",
    "version": 3
   },
   "file_extension": ".py",
   "mimetype": "text/x-python",
   "name": "python",
   "nbconvert_exporter": "python",
   "pygments_lexer": "ipython3",
   "version": "3.12.7"
  }
 },
 "nbformat": 4,
 "nbformat_minor": 2
}
